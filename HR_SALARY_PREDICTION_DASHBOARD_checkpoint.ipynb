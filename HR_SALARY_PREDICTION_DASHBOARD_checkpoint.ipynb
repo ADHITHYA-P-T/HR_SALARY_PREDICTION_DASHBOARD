{
  "cells": [
    {
      "cell_type": "markdown",
      "metadata": {
        "id": "view-in-github",
        "colab_type": "text"
      },
      "source": [
        "<a href=\"https://colab.research.google.com/github/ADHITHYA-P-T/ADHITHYA-P-T-shapeAL_PYTHON_MACHINE_LEARNING/blob/main/HR_SALARY_PREDICTION_DASHBOARD_checkpoint.ipynb\" target=\"_parent\"><img src=\"https://colab.research.google.com/assets/colab-badge.svg\" alt=\"Open In Colab\"/></a>"
      ]
    },
    {
      "cell_type": "markdown",
      "metadata": {
        "id": "e8155a3f"
      },
      "source": [
        "### Problem statement"
      ],
      "id": "e8155a3f"
    },
    {
      "cell_type": "markdown",
      "metadata": {
        "id": "538c57f7"
      },
      "source": [
        "**The goal of this project is to clean the data ,analysis and predict whether a person's salary is higher or lower than** **$50k/year based on their attributes using several ML classification techniques**"
      ],
      "id": "538c57f7"
    },
    {
      "cell_type": "markdown",
      "metadata": {
        "id": "19a13e02"
      },
      "source": [
        "##### importing the  collected data to python environment"
      ],
      "id": "19a13e02"
    },
    {
      "cell_type": "code",
      "execution_count": 3,
      "metadata": {
        "id": "a5f3ee8c"
      },
      "outputs": [],
      "source": [
        "#importing necessary libraries\n",
        "import numpy as np\n",
        "import pandas as pd\n",
        "\n",
        "#libraries for data visualization\n",
        "import matplotlib.pyplot as plt\n",
        "import seaborn as sns\n",
        "from pandas.plotting import scatter_matrix\n",
        "from collections import Counter\n",
        "def printmd(string):\n",
        "    display(Markdown(string))\n",
        "\n",
        "#import sys and warnings to ignore  warning messeges\n",
        "import sys\n",
        "import warnings\n",
        "%matplotlib inline\n",
        "\n",
        "if not sys.warnoptions:\n",
        "    warnings.simplefilter(\"ignore\")\n",
        "\n",
        "data = pd.read_csv(r'/content/salarydata-TCS.csv')"
      ],
      "id": "a5f3ee8c"
    },
    {
      "cell_type": "code",
      "execution_count": null,
      "metadata": {
        "id": "d9715ae2",
        "outputId": "9efc4fb9-b94a-49a4-899f-b3dd3171b67e"
      },
      "outputs": [
        {
          "data": {
            "text/html": [
              "<div>\n",
              "<style scoped>\n",
              "    .dataframe tbody tr th:only-of-type {\n",
              "        vertical-align: middle;\n",
              "    }\n",
              "\n",
              "    .dataframe tbody tr th {\n",
              "        vertical-align: top;\n",
              "    }\n",
              "\n",
              "    .dataframe thead th {\n",
              "        text-align: right;\n",
              "    }\n",
              "</style>\n",
              "<table border=\"1\" class=\"dataframe\">\n",
              "  <thead>\n",
              "    <tr style=\"text-align: right;\">\n",
              "      <th></th>\n",
              "      <th>age</th>\n",
              "      <th>workclass</th>\n",
              "      <th>fnlwgt</th>\n",
              "      <th>education</th>\n",
              "      <th>educational-num</th>\n",
              "      <th>marital-status</th>\n",
              "      <th>occupation</th>\n",
              "      <th>relationship</th>\n",
              "      <th>race</th>\n",
              "      <th>gender</th>\n",
              "      <th>capital-gain</th>\n",
              "      <th>capital-loss</th>\n",
              "      <th>hours-per-week</th>\n",
              "      <th>native-country</th>\n",
              "      <th>Salary</th>\n",
              "    </tr>\n",
              "  </thead>\n",
              "  <tbody>\n",
              "    <tr>\n",
              "      <th>0</th>\n",
              "      <td>25</td>\n",
              "      <td>Private</td>\n",
              "      <td>226802</td>\n",
              "      <td>11th</td>\n",
              "      <td>7</td>\n",
              "      <td>Never-married</td>\n",
              "      <td>Machine-op-inspct</td>\n",
              "      <td>Own-child</td>\n",
              "      <td>Black</td>\n",
              "      <td>Male</td>\n",
              "      <td>0</td>\n",
              "      <td>0</td>\n",
              "      <td>40</td>\n",
              "      <td>United-States</td>\n",
              "      <td>&lt;=50K</td>\n",
              "    </tr>\n",
              "    <tr>\n",
              "      <th>1</th>\n",
              "      <td>38</td>\n",
              "      <td>Private</td>\n",
              "      <td>89814</td>\n",
              "      <td>HS-grad</td>\n",
              "      <td>9</td>\n",
              "      <td>Married-civ-spouse</td>\n",
              "      <td>Farming-fishing</td>\n",
              "      <td>Husband</td>\n",
              "      <td>White</td>\n",
              "      <td>Male</td>\n",
              "      <td>0</td>\n",
              "      <td>0</td>\n",
              "      <td>50</td>\n",
              "      <td>United-States</td>\n",
              "      <td>&lt;=50K</td>\n",
              "    </tr>\n",
              "    <tr>\n",
              "      <th>2</th>\n",
              "      <td>28</td>\n",
              "      <td>Local-gov</td>\n",
              "      <td>336951</td>\n",
              "      <td>Assoc-acdm</td>\n",
              "      <td>12</td>\n",
              "      <td>Married-civ-spouse</td>\n",
              "      <td>Protective-serv</td>\n",
              "      <td>Husband</td>\n",
              "      <td>White</td>\n",
              "      <td>Male</td>\n",
              "      <td>0</td>\n",
              "      <td>0</td>\n",
              "      <td>40</td>\n",
              "      <td>United-States</td>\n",
              "      <td>&gt;50K</td>\n",
              "    </tr>\n",
              "    <tr>\n",
              "      <th>3</th>\n",
              "      <td>44</td>\n",
              "      <td>Private</td>\n",
              "      <td>160323</td>\n",
              "      <td>Some-college</td>\n",
              "      <td>10</td>\n",
              "      <td>Married-civ-spouse</td>\n",
              "      <td>Machine-op-inspct</td>\n",
              "      <td>Husband</td>\n",
              "      <td>Black</td>\n",
              "      <td>Male</td>\n",
              "      <td>7688</td>\n",
              "      <td>0</td>\n",
              "      <td>40</td>\n",
              "      <td>United-States</td>\n",
              "      <td>&gt;50K</td>\n",
              "    </tr>\n",
              "    <tr>\n",
              "      <th>4</th>\n",
              "      <td>18</td>\n",
              "      <td>?</td>\n",
              "      <td>103497</td>\n",
              "      <td>Some-college</td>\n",
              "      <td>10</td>\n",
              "      <td>Never-married</td>\n",
              "      <td>?</td>\n",
              "      <td>Own-child</td>\n",
              "      <td>White</td>\n",
              "      <td>Female</td>\n",
              "      <td>0</td>\n",
              "      <td>0</td>\n",
              "      <td>30</td>\n",
              "      <td>United-States</td>\n",
              "      <td>&lt;=50K</td>\n",
              "    </tr>\n",
              "  </tbody>\n",
              "</table>\n",
              "</div>"
            ],
            "text/plain": [
              "   age  workclass  fnlwgt     education  educational-num      marital-status  \\\n",
              "0   25    Private  226802          11th                7       Never-married   \n",
              "1   38    Private   89814       HS-grad                9  Married-civ-spouse   \n",
              "2   28  Local-gov  336951    Assoc-acdm               12  Married-civ-spouse   \n",
              "3   44    Private  160323  Some-college               10  Married-civ-spouse   \n",
              "4   18          ?  103497  Some-college               10       Never-married   \n",
              "\n",
              "          occupation relationship   race  gender  capital-gain  capital-loss  \\\n",
              "0  Machine-op-inspct    Own-child  Black    Male             0             0   \n",
              "1    Farming-fishing      Husband  White    Male             0             0   \n",
              "2    Protective-serv      Husband  White    Male             0             0   \n",
              "3  Machine-op-inspct      Husband  Black    Male          7688             0   \n",
              "4                  ?    Own-child  White  Female             0             0   \n",
              "\n",
              "   hours-per-week native-country Salary  \n",
              "0              40  United-States  <=50K  \n",
              "1              50  United-States  <=50K  \n",
              "2              40  United-States   >50K  \n",
              "3              40  United-States   >50K  \n",
              "4              30  United-States  <=50K  "
            ]
          },
          "execution_count": 3,
          "metadata": {},
          "output_type": "execute_result"
        }
      ],
      "source": [
        "data.head()"
      ],
      "id": "d9715ae2"
    },
    {
      "cell_type": "code",
      "execution_count": null,
      "metadata": {
        "id": "3061d8c9",
        "outputId": "768a34a0-f932-4a93-aa6a-e48e11f38989"
      },
      "outputs": [
        {
          "data": {
            "text/html": [
              "<div>\n",
              "<style scoped>\n",
              "    .dataframe tbody tr th:only-of-type {\n",
              "        vertical-align: middle;\n",
              "    }\n",
              "\n",
              "    .dataframe tbody tr th {\n",
              "        vertical-align: top;\n",
              "    }\n",
              "\n",
              "    .dataframe thead th {\n",
              "        text-align: right;\n",
              "    }\n",
              "</style>\n",
              "<table border=\"1\" class=\"dataframe\">\n",
              "  <thead>\n",
              "    <tr style=\"text-align: right;\">\n",
              "      <th></th>\n",
              "      <th>age</th>\n",
              "      <th>workclass</th>\n",
              "      <th>fnlwgt</th>\n",
              "      <th>education</th>\n",
              "      <th>educational-num</th>\n",
              "      <th>marital-status</th>\n",
              "      <th>occupation</th>\n",
              "      <th>relationship</th>\n",
              "      <th>race</th>\n",
              "      <th>gender</th>\n",
              "      <th>capital-gain</th>\n",
              "      <th>capital-loss</th>\n",
              "      <th>hours-per-week</th>\n",
              "      <th>native-country</th>\n",
              "      <th>Salary</th>\n",
              "    </tr>\n",
              "  </thead>\n",
              "  <tbody>\n",
              "    <tr>\n",
              "      <th>48837</th>\n",
              "      <td>27</td>\n",
              "      <td>Private</td>\n",
              "      <td>257302</td>\n",
              "      <td>Assoc-acdm</td>\n",
              "      <td>12</td>\n",
              "      <td>Married-civ-spouse</td>\n",
              "      <td>Tech-support</td>\n",
              "      <td>Wife</td>\n",
              "      <td>White</td>\n",
              "      <td>Female</td>\n",
              "      <td>0</td>\n",
              "      <td>0</td>\n",
              "      <td>38</td>\n",
              "      <td>United-States</td>\n",
              "      <td>&lt;=50K</td>\n",
              "    </tr>\n",
              "    <tr>\n",
              "      <th>48838</th>\n",
              "      <td>40</td>\n",
              "      <td>Private</td>\n",
              "      <td>154374</td>\n",
              "      <td>HS-grad</td>\n",
              "      <td>9</td>\n",
              "      <td>Married-civ-spouse</td>\n",
              "      <td>Machine-op-inspct</td>\n",
              "      <td>Husband</td>\n",
              "      <td>White</td>\n",
              "      <td>Male</td>\n",
              "      <td>0</td>\n",
              "      <td>0</td>\n",
              "      <td>40</td>\n",
              "      <td>United-States</td>\n",
              "      <td>&gt;50K</td>\n",
              "    </tr>\n",
              "    <tr>\n",
              "      <th>48839</th>\n",
              "      <td>58</td>\n",
              "      <td>Private</td>\n",
              "      <td>151910</td>\n",
              "      <td>HS-grad</td>\n",
              "      <td>9</td>\n",
              "      <td>Widowed</td>\n",
              "      <td>Adm-clerical</td>\n",
              "      <td>Unmarried</td>\n",
              "      <td>White</td>\n",
              "      <td>Female</td>\n",
              "      <td>0</td>\n",
              "      <td>0</td>\n",
              "      <td>40</td>\n",
              "      <td>United-States</td>\n",
              "      <td>&lt;=50K</td>\n",
              "    </tr>\n",
              "    <tr>\n",
              "      <th>48840</th>\n",
              "      <td>22</td>\n",
              "      <td>Private</td>\n",
              "      <td>201490</td>\n",
              "      <td>HS-grad</td>\n",
              "      <td>9</td>\n",
              "      <td>Never-married</td>\n",
              "      <td>Adm-clerical</td>\n",
              "      <td>Own-child</td>\n",
              "      <td>White</td>\n",
              "      <td>Male</td>\n",
              "      <td>0</td>\n",
              "      <td>0</td>\n",
              "      <td>20</td>\n",
              "      <td>United-States</td>\n",
              "      <td>&lt;=50K</td>\n",
              "    </tr>\n",
              "    <tr>\n",
              "      <th>48841</th>\n",
              "      <td>52</td>\n",
              "      <td>Self-emp-inc</td>\n",
              "      <td>287927</td>\n",
              "      <td>HS-grad</td>\n",
              "      <td>9</td>\n",
              "      <td>Married-civ-spouse</td>\n",
              "      <td>Exec-managerial</td>\n",
              "      <td>Wife</td>\n",
              "      <td>White</td>\n",
              "      <td>Female</td>\n",
              "      <td>15024</td>\n",
              "      <td>0</td>\n",
              "      <td>40</td>\n",
              "      <td>United-States</td>\n",
              "      <td>&gt;50K</td>\n",
              "    </tr>\n",
              "  </tbody>\n",
              "</table>\n",
              "</div>"
            ],
            "text/plain": [
              "       age     workclass  fnlwgt   education  educational-num  \\\n",
              "48837   27       Private  257302  Assoc-acdm               12   \n",
              "48838   40       Private  154374     HS-grad                9   \n",
              "48839   58       Private  151910     HS-grad                9   \n",
              "48840   22       Private  201490     HS-grad                9   \n",
              "48841   52  Self-emp-inc  287927     HS-grad                9   \n",
              "\n",
              "           marital-status         occupation relationship   race  gender  \\\n",
              "48837  Married-civ-spouse       Tech-support         Wife  White  Female   \n",
              "48838  Married-civ-spouse  Machine-op-inspct      Husband  White    Male   \n",
              "48839             Widowed       Adm-clerical    Unmarried  White  Female   \n",
              "48840       Never-married       Adm-clerical    Own-child  White    Male   \n",
              "48841  Married-civ-spouse    Exec-managerial         Wife  White  Female   \n",
              "\n",
              "       capital-gain  capital-loss  hours-per-week native-country Salary  \n",
              "48837             0             0              38  United-States  <=50K  \n",
              "48838             0             0              40  United-States   >50K  \n",
              "48839             0             0              40  United-States  <=50K  \n",
              "48840             0             0              20  United-States  <=50K  \n",
              "48841         15024             0              40  United-States   >50K  "
            ]
          },
          "execution_count": 4,
          "metadata": {},
          "output_type": "execute_result"
        }
      ],
      "source": [
        "data.tail()"
      ],
      "id": "3061d8c9"
    },
    {
      "cell_type": "markdown",
      "metadata": {
        "id": "731c2131"
      },
      "source": [
        "## Understanding the dataset"
      ],
      "id": "731c2131"
    },
    {
      "cell_type": "code",
      "execution_count": null,
      "metadata": {
        "id": "0ab4dee9",
        "outputId": "600267d0-31e5-4411-b903-43e94cd24cd8"
      },
      "outputs": [
        {
          "data": {
            "text/plain": [
              "(48842, 15)"
            ]
          },
          "execution_count": 5,
          "metadata": {},
          "output_type": "execute_result"
        }
      ],
      "source": [
        "data.shape"
      ],
      "id": "0ab4dee9"
    },
    {
      "cell_type": "code",
      "execution_count": null,
      "metadata": {
        "id": "338ed647",
        "outputId": "878a02b6-b464-4512-e94a-4bbd7f249302"
      },
      "outputs": [
        {
          "name": "stdout",
          "output_type": "stream",
          "text": [
            "<class 'pandas.core.frame.DataFrame'>\n",
            "RangeIndex: 48842 entries, 0 to 48841\n",
            "Data columns (total 15 columns):\n",
            " #   Column           Non-Null Count  Dtype \n",
            "---  ------           --------------  ----- \n",
            " 0   age              48842 non-null  int64 \n",
            " 1   workclass        48842 non-null  object\n",
            " 2   fnlwgt           48842 non-null  int64 \n",
            " 3   education        48842 non-null  object\n",
            " 4   educational-num  48842 non-null  int64 \n",
            " 5   marital-status   48842 non-null  object\n",
            " 6   occupation       48842 non-null  object\n",
            " 7   relationship     48842 non-null  object\n",
            " 8   race             48842 non-null  object\n",
            " 9   gender           48842 non-null  object\n",
            " 10  capital-gain     48842 non-null  int64 \n",
            " 11  capital-loss     48842 non-null  int64 \n",
            " 12  hours-per-week   48842 non-null  int64 \n",
            " 13  native-country   48842 non-null  object\n",
            " 14  Salary           48842 non-null  object\n",
            "dtypes: int64(6), object(9)\n",
            "memory usage: 5.6+ MB\n"
          ]
        }
      ],
      "source": [
        "data.info()"
      ],
      "id": "338ed647"
    },
    {
      "cell_type": "code",
      "execution_count": null,
      "metadata": {
        "id": "733859f2",
        "outputId": "4acd3b25-151d-47a8-e3fc-e37dd5db2fb7"
      },
      "outputs": [
        {
          "name": "stdout",
          "output_type": "stream",
          "text": [
            "Number of columns in the dataset:  15\n",
            "Number of rows in the dataset:  48842\n",
            "Total number of datapoints in the dataset: 732630\n",
            "Count of Numerical features :  6\n",
            "Count of categorical Features: 9\n"
          ]
        }
      ],
      "source": [
        "def data_info(data):\n",
        "    print('Number of columns in the dataset: ',data.shape[1])\n",
        "    print('Number of rows in the dataset: ',data.shape[0])\n",
        "    print('Total number of datapoints in the dataset:',data.size)\n",
        "    numerical_features = [f for f in data.columns if data[f].dtypes!='O']\n",
        "    print('Count of Numerical features : ',len(numerical_features))\n",
        "    cat_features = [c for c in data.columns if data[c].dtypes=='O']\n",
        "    print('Count of categorical Features:', len(cat_features))\n",
        "data_info(data)"
      ],
      "id": "733859f2"
    },
    {
      "cell_type": "code",
      "execution_count": null,
      "metadata": {
        "id": "7fa4e2b1"
      },
      "outputs": [],
      "source": [
        "#loops and print unique values in each column\n",
        "#this step is just for data understanding part\n",
        "#it not integral to straightforward Analysis\n",
        "\n",
        "def unique_checker(data):\n",
        "    for col in data.columns:\n",
        "        print(\"Unique values in {} feature.\".format(col))\n",
        "        print(data[col].unique(),\"\\n\")\n",
        "        print(\"*\"*40)"
      ],
      "id": "7fa4e2b1"
    },
    {
      "cell_type": "code",
      "execution_count": null,
      "metadata": {
        "id": "e399807b",
        "outputId": "d0fce129-402a-48b3-9a71-d62f0c044b19"
      },
      "outputs": [
        {
          "name": "stdout",
          "output_type": "stream",
          "text": [
            "Unique values in age feature.\n",
            "[25 38 28 44 18 34 29 63 24 55 65 36 26 58 48 43 20 37 40 72 45 22 23 54\n",
            " 32 46 56 17 39 52 21 42 33 30 47 41 19 69 50 31 59 49 51 27 57 61 64 79\n",
            " 73 53 77 80 62 35 68 66 75 60 67 71 70 90 81 74 78 82 83 85 76 84 89 88\n",
            " 87 86] \n",
            "\n",
            "****************************************\n",
            "Unique values in workclass feature.\n",
            "['Private' 'Local-gov' '?' 'Self-emp-not-inc' 'Federal-gov' 'State-gov'\n",
            " 'Self-emp-inc' 'Without-pay' 'Never-worked'] \n",
            "\n",
            "****************************************\n",
            "Unique values in fnlwgt feature.\n",
            "[226802  89814 336951 ... 129912 255835 257302] \n",
            "\n",
            "****************************************\n",
            "Unique values in education feature.\n",
            "['11th' 'HS-grad' 'Assoc-acdm' 'Some-college' '10th' 'Prof-school'\n",
            " '7th-8th' 'Bachelors' 'Masters' 'Doctorate' '5th-6th' 'Assoc-voc' '9th'\n",
            " '12th' '1st-4th' 'Preschool'] \n",
            "\n",
            "****************************************\n",
            "Unique values in educational-num feature.\n",
            "[ 7  9 12 10  6 15  4 13 14 16  3 11  5  8  2  1] \n",
            "\n",
            "****************************************\n",
            "Unique values in marital-status feature.\n",
            "['Never-married' 'Married-civ-spouse' 'Widowed' 'Divorced' 'Separated'\n",
            " 'Married-spouse-absent' 'Married-AF-spouse'] \n",
            "\n",
            "****************************************\n",
            "Unique values in occupation feature.\n",
            "['Machine-op-inspct' 'Farming-fishing' 'Protective-serv' '?'\n",
            " 'Other-service' 'Prof-specialty' 'Craft-repair' 'Adm-clerical'\n",
            " 'Exec-managerial' 'Tech-support' 'Sales' 'Priv-house-serv'\n",
            " 'Transport-moving' 'Handlers-cleaners' 'Armed-Forces'] \n",
            "\n",
            "****************************************\n",
            "Unique values in relationship feature.\n",
            "['Own-child' 'Husband' 'Not-in-family' 'Unmarried' 'Wife' 'Other-relative'] \n",
            "\n",
            "****************************************\n",
            "Unique values in race feature.\n",
            "['Black' 'White' 'Asian-Pac-Islander' 'Other' 'Amer-Indian-Eskimo'] \n",
            "\n",
            "****************************************\n",
            "Unique values in gender feature.\n",
            "['Male' 'Female'] \n",
            "\n",
            "****************************************\n",
            "Unique values in capital-gain feature.\n",
            "[    0  7688  3103  6418  7298  3908 14084  5178 15024 99999  2597  2907\n",
            "  4650  6497  1055  5013 27828  4934  4064  3674  2174 10605  3418   114\n",
            "  2580  3411  4508  4386  8614 13550  6849  2463  3137  2885  2964  1471\n",
            " 10566  2354  1424  1455  3325  4416 25236   594  2105  4787  2829   401\n",
            "  4865  1264  1506 10520  3464  2653 20051  4101  1797  2407  3471  1086\n",
            "  1848 14344  1151  2993  2290 15020  9386  2202  3818  2176  5455 11678\n",
            "  7978  7262  6514 41310  3456  7430  2414  2062 34095  1831  6723  5060\n",
            " 15831  2977  2346  3273  2329  9562  2635  4931  1731  6097   914  7896\n",
            "  5556  1409  3781  3942  2538  3887 25124  7443  5721  1173  4687  6612\n",
            "  6767  2961   991  2036  2936  2050  1111  2228 22040  3432  6360  2009\n",
            "  1639 18481  2387] \n",
            "\n",
            "****************************************\n",
            "Unique values in capital-loss feature.\n",
            "[   0 1721 1876 2415 1887  625 1977 2057 1429 1590 1485 2051 2377 1672\n",
            " 1628 1902 1602 1741 2444 1408 2001 2042 1740 1825 1848 1719 3004 2179\n",
            " 1573 2205 1258 2339 1726 2258 1340 1504 2559 1668 1974 1980 1564 2547\n",
            " 2002 1669 1617  323 3175 2472 2174 1579 2129 1510 1735 2282 1870 1411\n",
            " 1911 1651 1092 1762 2457 2231 2238  653 1138 2246 2603 2392 1944 1380\n",
            " 2465 1421 3770 1594  213 2149 2824 1844 2467 2163 1816 1648 2206 2352\n",
            "  419 1539  880  810  974 4356 2489 1755 3683 2267 2080  155 3900 2201\n",
            " 2754] \n",
            "\n",
            "****************************************\n",
            "Unique values in hours-per-week feature.\n",
            "[40 50 30 32 10 39 35 48 25 20 45 47  6 43 90 54 60 38 36 18 24 44 56 28\n",
            " 16 41 22 55 14 33 37  8 12 70 15 75 52 84 42 80 68 99 65  5 17 72 53 29\n",
            " 96 21 46  3  1 23 49 67 76  7  2 58 26 34  4 51 78 63 31 92 77 27 85 13\n",
            " 19 98 62 66 57 11 86 59  9 64 73 61 88 79 89 74 69 87 97 94 82 91 81 95] \n",
            "\n",
            "****************************************\n",
            "Unique values in native-country feature.\n",
            "['United-States' '?' 'Peru' 'Guatemala' 'Mexico' 'Dominican-Republic'\n",
            " 'Ireland' 'Germany' 'Philippines' 'Thailand' 'Haiti' 'El-Salvador'\n",
            " 'Puerto-Rico' 'Vietnam' 'South' 'Columbia' 'Japan' 'India' 'Cambodia'\n",
            " 'Poland' 'Laos' 'England' 'Cuba' 'Taiwan' 'Italy' 'Canada' 'Portugal'\n",
            " 'China' 'Nicaragua' 'Honduras' 'Iran' 'Scotland' 'Jamaica' 'Ecuador'\n",
            " 'Yugoslavia' 'Hungary' 'Hong' 'Greece' 'Trinadad&Tobago'\n",
            " 'Outlying-US(Guam-USVI-etc)' 'France' 'Holand-Netherlands'] \n",
            "\n",
            "****************************************\n",
            "Unique values in Salary feature.\n",
            "['<=50K' '>50K'] \n",
            "\n",
            "****************************************\n"
          ]
        }
      ],
      "source": [
        "unique_checker(data)"
      ],
      "id": "e399807b"
    },
    {
      "cell_type": "code",
      "execution_count": null,
      "metadata": {
        "id": "ff2c44b1"
      },
      "outputs": [],
      "source": [
        "#count of each value under each feature in the data\n",
        "def count_checker(data):\n",
        "    for col in data.columns:\n",
        "        print(\"count for each category of values in {} feature.\".format(col))\n",
        "        print(data[col].value_counts(),\"\\n\")\n",
        "        print(\"*\"*40)"
      ],
      "id": "ff2c44b1"
    },
    {
      "cell_type": "code",
      "execution_count": null,
      "metadata": {
        "id": "5b9b498d",
        "outputId": "a5c1d4b9-0500-4810-b5d6-5ab2efc8da41"
      },
      "outputs": [
        {
          "name": "stdout",
          "output_type": "stream",
          "text": [
            "count for each category of values in age feature.\n",
            "36    1348\n",
            "35    1337\n",
            "33    1335\n",
            "23    1329\n",
            "31    1325\n",
            "      ... \n",
            "88       6\n",
            "85       5\n",
            "87       3\n",
            "89       2\n",
            "86       1\n",
            "Name: age, Length: 74, dtype: int64 \n",
            "\n",
            "****************************************\n",
            "count for each category of values in workclass feature.\n",
            "Private             33906\n",
            "Self-emp-not-inc     3862\n",
            "Local-gov            3136\n",
            "?                    2799\n",
            "State-gov            1981\n",
            "Self-emp-inc         1695\n",
            "Federal-gov          1432\n",
            "Without-pay            21\n",
            "Never-worked           10\n",
            "Name: workclass, dtype: int64 \n",
            "\n",
            "****************************************\n",
            "count for each category of values in fnlwgt feature.\n",
            "203488    21\n",
            "190290    19\n",
            "120277    19\n",
            "125892    18\n",
            "126569    18\n",
            "          ..\n",
            "188488     1\n",
            "285290     1\n",
            "293579     1\n",
            "114874     1\n",
            "257302     1\n",
            "Name: fnlwgt, Length: 28523, dtype: int64 \n",
            "\n",
            "****************************************\n",
            "count for each category of values in education feature.\n",
            "HS-grad         15784\n",
            "Some-college    10878\n",
            "Bachelors        8025\n",
            "Masters          2657\n",
            "Assoc-voc        2061\n",
            "11th             1812\n",
            "Assoc-acdm       1601\n",
            "10th             1389\n",
            "7th-8th           955\n",
            "Prof-school       834\n",
            "9th               756\n",
            "12th              657\n",
            "Doctorate         594\n",
            "5th-6th           509\n",
            "1st-4th           247\n",
            "Preschool          83\n",
            "Name: education, dtype: int64 \n",
            "\n",
            "****************************************\n",
            "count for each category of values in educational-num feature.\n",
            "9     15784\n",
            "10    10878\n",
            "13     8025\n",
            "14     2657\n",
            "11     2061\n",
            "7      1812\n",
            "12     1601\n",
            "6      1389\n",
            "4       955\n",
            "15      834\n",
            "5       756\n",
            "8       657\n",
            "16      594\n",
            "3       509\n",
            "2       247\n",
            "1        83\n",
            "Name: educational-num, dtype: int64 \n",
            "\n",
            "****************************************\n",
            "count for each category of values in marital-status feature.\n",
            "Married-civ-spouse       22379\n",
            "Never-married            16117\n",
            "Divorced                  6633\n",
            "Separated                 1530\n",
            "Widowed                   1518\n",
            "Married-spouse-absent      628\n",
            "Married-AF-spouse           37\n",
            "Name: marital-status, dtype: int64 \n",
            "\n",
            "****************************************\n",
            "count for each category of values in occupation feature.\n",
            "Prof-specialty       6172\n",
            "Craft-repair         6112\n",
            "Exec-managerial      6086\n",
            "Adm-clerical         5611\n",
            "Sales                5504\n",
            "Other-service        4923\n",
            "Machine-op-inspct    3022\n",
            "?                    2809\n",
            "Transport-moving     2355\n",
            "Handlers-cleaners    2072\n",
            "Farming-fishing      1490\n",
            "Tech-support         1446\n",
            "Protective-serv       983\n",
            "Priv-house-serv       242\n",
            "Armed-Forces           15\n",
            "Name: occupation, dtype: int64 \n",
            "\n",
            "****************************************\n",
            "count for each category of values in relationship feature.\n",
            "Husband           19716\n",
            "Not-in-family     12583\n",
            "Own-child          7581\n",
            "Unmarried          5125\n",
            "Wife               2331\n",
            "Other-relative     1506\n",
            "Name: relationship, dtype: int64 \n",
            "\n",
            "****************************************\n",
            "count for each category of values in race feature.\n",
            "White                 41762\n",
            "Black                  4685\n",
            "Asian-Pac-Islander     1519\n",
            "Amer-Indian-Eskimo      470\n",
            "Other                   406\n",
            "Name: race, dtype: int64 \n",
            "\n",
            "****************************************\n",
            "count for each category of values in gender feature.\n",
            "Male      32650\n",
            "Female    16192\n",
            "Name: gender, dtype: int64 \n",
            "\n",
            "****************************************\n",
            "count for each category of values in capital-gain feature.\n",
            "0        44807\n",
            "15024      513\n",
            "7688       410\n",
            "7298       364\n",
            "99999      244\n",
            "         ...  \n",
            "1111         1\n",
            "7262         1\n",
            "22040        1\n",
            "1639         1\n",
            "2387         1\n",
            "Name: capital-gain, Length: 123, dtype: int64 \n",
            "\n",
            "****************************************\n",
            "count for each category of values in capital-loss feature.\n",
            "0       46560\n",
            "1902      304\n",
            "1977      253\n",
            "1887      233\n",
            "2415       72\n",
            "        ...  \n",
            "2465        1\n",
            "2080        1\n",
            "155         1\n",
            "1911        1\n",
            "2201        1\n",
            "Name: capital-loss, Length: 99, dtype: int64 \n",
            "\n",
            "****************************************\n",
            "count for each category of values in hours-per-week feature.\n",
            "40    22803\n",
            "50     4246\n",
            "45     2717\n",
            "60     2177\n",
            "35     1937\n",
            "      ...  \n",
            "69        1\n",
            "87        1\n",
            "94        1\n",
            "82        1\n",
            "79        1\n",
            "Name: hours-per-week, Length: 96, dtype: int64 \n",
            "\n",
            "****************************************\n",
            "count for each category of values in native-country feature.\n",
            "United-States                 43832\n",
            "Mexico                          951\n",
            "?                               857\n",
            "Philippines                     295\n",
            "Germany                         206\n",
            "Puerto-Rico                     184\n",
            "Canada                          182\n",
            "El-Salvador                     155\n",
            "India                           151\n",
            "Cuba                            138\n",
            "England                         127\n",
            "China                           122\n",
            "South                           115\n",
            "Jamaica                         106\n",
            "Italy                           105\n",
            "Dominican-Republic              103\n",
            "Japan                            92\n",
            "Guatemala                        88\n",
            "Poland                           87\n",
            "Vietnam                          86\n",
            "Columbia                         85\n",
            "Haiti                            75\n",
            "Portugal                         67\n",
            "Taiwan                           65\n",
            "Iran                             59\n",
            "Greece                           49\n",
            "Nicaragua                        49\n",
            "Peru                             46\n",
            "Ecuador                          45\n",
            "France                           38\n",
            "Ireland                          37\n",
            "Hong                             30\n",
            "Thailand                         30\n",
            "Cambodia                         28\n",
            "Trinadad&Tobago                  27\n",
            "Laos                             23\n",
            "Yugoslavia                       23\n",
            "Outlying-US(Guam-USVI-etc)       23\n",
            "Scotland                         21\n",
            "Honduras                         20\n",
            "Hungary                          19\n",
            "Holand-Netherlands                1\n",
            "Name: native-country, dtype: int64 \n",
            "\n",
            "****************************************\n",
            "count for each category of values in Salary feature.\n",
            "<=50K    37155\n",
            ">50K     11687\n",
            "Name: Salary, dtype: int64 \n",
            "\n",
            "****************************************\n"
          ]
        }
      ],
      "source": [
        "count_checker(data)"
      ],
      "id": "5b9b498d"
    },
    {
      "cell_type": "markdown",
      "metadata": {
        "id": "c0929732"
      },
      "source": [
        "#### Findings:-"
      ],
      "id": "c0929732"
    },
    {
      "cell_type": "raw",
      "metadata": {
        "id": "e8bab4e3"
      },
      "source": [
        "The data set contains 48,842 entries with a total of 15 columns representing different attributes of people.\n",
        "Here the list:-\n",
        "1.Age : Discrete (from 17 to 90)\n",
        "2.Work Class(private, federal Gov ,etc..): Nominal (9 categopries)\n",
        "3.Final Weight (number of people the census believes the entry represents) :Discrete\n",
        "4.Education  (the highest level of education obtained) : Ordinal (16 categories)\n",
        "5.education Number (number of years of education): Discrete (from 1 to 16)\n",
        "6.Maritial Status : Nominal (7 categories)\n",
        "7.Occupation (Transport-Moving,Craft repair,etc):Nominal(15 categories)\n",
        "8.Relationship in family (unmarried,not in family,etc):Nominal (6 categories)\n",
        "9.race :Nominal(5 categories)\n",
        "10.sex : Nominal(2 categories)\n",
        "11.capital gain : Continous\n",
        "12.capital loss : continous\n",
        "13.hours (worked)per week : Discrete (from 1 to 99)\n",
        "14.Native Country : Nominal (42 Countries)\n",
        "15.Salary (Whether or not an individual makes more than 50K$ annually) : Boolean (<=50k,>50k)"
      ],
      "id": "e8bab4e3"
    },
    {
      "cell_type": "code",
      "execution_count": null,
      "metadata": {
        "id": "2dc4527e",
        "outputId": "67bcfb1f-1706-4034-a642-eb2f16d58d21"
      },
      "outputs": [
        {
          "data": {
            "text/plain": [
              "Index(['age', 'workclass', 'fnlwgt', 'education', 'educational-num',\n",
              "       'marital-status', 'occupation', 'relationship', 'race', 'gender',\n",
              "       'capital-gain', 'capital-loss', 'hours-per-week', 'native-country',\n",
              "       'Salary'],\n",
              "      dtype='object')"
            ]
          },
          "execution_count": 12,
          "metadata": {},
          "output_type": "execute_result"
        }
      ],
      "source": [
        "df = pd.DataFrame(data)\n",
        "df.columns"
      ],
      "id": "2dc4527e"
    },
    {
      "cell_type": "code",
      "execution_count": null,
      "metadata": {
        "id": "eaac32a1"
      },
      "outputs": [],
      "source": [
        "### Renaming the columns"
      ],
      "id": "eaac32a1"
    },
    {
      "cell_type": "code",
      "execution_count": null,
      "metadata": {
        "id": "fcdc999f",
        "outputId": "83b5cc03-df36-4bce-b26a-a79b0d468383"
      },
      "outputs": [
        {
          "data": {
            "text/plain": [
              "Index(['age', 'workclass', 'fnlwgt', 'education', 'educational-num',\n",
              "       'marital-status', 'occupation', 'relationship', 'race', 'gender',\n",
              "       'capital_gain', 'capital_loss', 'hours_per_week', 'native_country',\n",
              "       'Salary'],\n",
              "      dtype='object')"
            ]
          },
          "execution_count": 14,
          "metadata": {},
          "output_type": "execute_result"
        }
      ],
      "source": [
        "#replacing some special character columns nameswith proper names\n",
        "df.rename(columns={'capital-gain':'capital_gain','capital-loss':'capital_loss','native-country':'native_country','hours-per-week':'hours_per_week'},inplace=True)\n",
        "df.columns"
      ],
      "id": "fcdc999f"
    },
    {
      "cell_type": "markdown",
      "metadata": {
        "id": "bc2b8cee"
      },
      "source": [
        "## Data Cleaning"
      ],
      "id": "bc2b8cee"
    },
    {
      "cell_type": "markdown",
      "metadata": {
        "id": "e8d98e82"
      },
      "source": [
        "### 1. Missing values"
      ],
      "id": "e8d98e82"
    },
    {
      "cell_type": "code",
      "execution_count": null,
      "metadata": {
        "id": "02363a1f",
        "outputId": "fed640ef-62ae-4b76-d664-c4c862d4a011"
      },
      "outputs": [
        {
          "data": {
            "text/plain": [
              "age                0\n",
              "workclass          0\n",
              "fnlwgt             0\n",
              "education          0\n",
              "educational-num    0\n",
              "marital-status     0\n",
              "occupation         0\n",
              "relationship       0\n",
              "race               0\n",
              "gender             0\n",
              "capital_gain       0\n",
              "capital_loss       0\n",
              "hours_per_week     0\n",
              "native_country     0\n",
              "Salary             0\n",
              "dtype: int64"
            ]
          },
          "execution_count": 15,
          "metadata": {},
          "output_type": "execute_result"
        }
      ],
      "source": [
        "#check the missing values\n",
        "df.isnull().sum()"
      ],
      "id": "02363a1f"
    },
    {
      "cell_type": "markdown",
      "metadata": {
        "id": "47b9c372"
      },
      "source": [
        "**above sum shows there are no null values in dataset**"
      ],
      "id": "47b9c372"
    },
    {
      "cell_type": "code",
      "execution_count": null,
      "metadata": {
        "id": "8178f644",
        "outputId": "95321aa4-0b7d-46d5-e6b3-7ccd5f1dba00"
      },
      "outputs": [
        {
          "data": {
            "text/plain": [
              "age                   0\n",
              "workclass          2799\n",
              "fnlwgt                0\n",
              "education             0\n",
              "educational-num       0\n",
              "marital-status        0\n",
              "occupation         2809\n",
              "relationship          0\n",
              "race                  0\n",
              "gender                0\n",
              "capital_gain          0\n",
              "capital_loss          0\n",
              "hours_per_week        0\n",
              "native_country      857\n",
              "Salary                0\n",
              "dtype: int64"
            ]
          },
          "execution_count": 16,
          "metadata": {},
          "output_type": "execute_result"
        }
      ],
      "source": [
        "#we can see that there are some special characters in the data like ('?')\n",
        "# finding special characters in the data frame\n",
        "df.isin(['?']).sum(axis=0)"
      ],
      "id": "8178f644"
    },
    {
      "cell_type": "markdown",
      "metadata": {
        "id": "449d9fa8"
      },
      "source": [
        "##### Findings"
      ],
      "id": "449d9fa8"
    },
    {
      "cell_type": "markdown",
      "metadata": {
        "id": "0eb93b37"
      },
      "source": [
        "*we see that there is a special character as '?' for columns workclass ,occupation ,native_country,we need to clean those data\n",
        "In this case , missing value fall into categorical features*"
      ],
      "id": "0eb93b37"
    },
    {
      "cell_type": "code",
      "execution_count": null,
      "metadata": {
        "id": "82512e54"
      },
      "outputs": [],
      "source": [
        "df['native_country'] = df['native_country'].replace('?',np.nan)\n",
        "df['workclass'] = df['workclass'].replace('?',np.nan)\n",
        "df['occupation'] = df['occupation'].replace('?',np.nan)"
      ],
      "id": "82512e54"
    },
    {
      "cell_type": "code",
      "execution_count": null,
      "metadata": {
        "id": "038d7c0f",
        "outputId": "c2712252-6375-4239-c6a8-3c7992f12442"
      },
      "outputs": [
        {
          "data": {
            "text/plain": [
              "age                   0\n",
              "workclass          2799\n",
              "fnlwgt                0\n",
              "education             0\n",
              "educational-num       0\n",
              "marital-status        0\n",
              "occupation         2809\n",
              "relationship          0\n",
              "race                  0\n",
              "gender                0\n",
              "capital_gain          0\n",
              "capital_loss          0\n",
              "hours_per_week        0\n",
              "native_country      857\n",
              "Salary                0\n",
              "dtype: int64"
            ]
          },
          "execution_count": 18,
          "metadata": {},
          "output_type": "execute_result"
        }
      ],
      "source": [
        "df.isnull().sum()"
      ],
      "id": "038d7c0f"
    },
    {
      "cell_type": "code",
      "execution_count": null,
      "metadata": {
        "id": "c7096521"
      },
      "outputs": [],
      "source": [
        "df = df.fillna(df.mode().iloc[0])"
      ],
      "id": "c7096521"
    },
    {
      "cell_type": "code",
      "execution_count": null,
      "metadata": {
        "id": "4acd9978",
        "outputId": "e4cae6a1-f046-4603-d082-dca3be7095f2"
      },
      "outputs": [
        {
          "data": {
            "text/plain": [
              "age                0\n",
              "workclass          0\n",
              "fnlwgt             0\n",
              "education          0\n",
              "educational-num    0\n",
              "marital-status     0\n",
              "occupation         0\n",
              "relationship       0\n",
              "race               0\n",
              "gender             0\n",
              "capital_gain       0\n",
              "capital_loss       0\n",
              "hours_per_week     0\n",
              "native_country     0\n",
              "Salary             0\n",
              "dtype: int64"
            ]
          },
          "execution_count": 20,
          "metadata": {},
          "output_type": "execute_result"
        }
      ],
      "source": [
        "df.isnull().sum()"
      ],
      "id": "4acd9978"
    },
    {
      "cell_type": "markdown",
      "metadata": {
        "id": "245b7559"
      },
      "source": [
        "### 2.Remove duplicate data"
      ],
      "id": "245b7559"
    },
    {
      "cell_type": "code",
      "execution_count": null,
      "metadata": {
        "id": "49409b13",
        "outputId": "dd606f6d-c667-4dbe-a62f-646271acfd5e"
      },
      "outputs": [
        {
          "data": {
            "text/plain": [
              "53"
            ]
          },
          "execution_count": 21,
          "metadata": {},
          "output_type": "execute_result"
        }
      ],
      "source": [
        "#checking for duplicated entries\n",
        "sum(df.duplicated(df.columns))"
      ],
      "id": "49409b13"
    },
    {
      "cell_type": "code",
      "execution_count": null,
      "metadata": {
        "id": "4de19224"
      },
      "outputs": [],
      "source": [
        "#delete duplicates\n",
        "df = df.drop_duplicates(df.columns , keep='last')"
      ],
      "id": "4de19224"
    },
    {
      "cell_type": "code",
      "execution_count": null,
      "metadata": {
        "id": "c2959b41",
        "outputId": "1a86a48c-7907-47d5-d5d6-d0b5da30aeb4"
      },
      "outputs": [
        {
          "data": {
            "text/plain": [
              "0"
            ]
          },
          "execution_count": 23,
          "metadata": {},
          "output_type": "execute_result"
        }
      ],
      "source": [
        "sum(df.duplicated(df.columns))"
      ],
      "id": "c2959b41"
    },
    {
      "cell_type": "code",
      "execution_count": null,
      "metadata": {
        "id": "865df484",
        "outputId": "cdc6b3c4-e0c7-4c49-d2f4-89cf90c215e5"
      },
      "outputs": [
        {
          "data": {
            "text/plain": [
              "(48789, 15)"
            ]
          },
          "execution_count": 24,
          "metadata": {},
          "output_type": "execute_result"
        }
      ],
      "source": [
        "df.shape"
      ],
      "id": "865df484"
    },
    {
      "cell_type": "code",
      "execution_count": null,
      "metadata": {
        "id": "d306f635",
        "outputId": "8b1a7bfa-a547-49bc-dd4e-5b0f4dd351f6"
      },
      "outputs": [
        {
          "data": {
            "text/plain": [
              "Index(['age', 'workclass', 'fnlwgt', 'education', 'educational-num',\n",
              "       'marital-status', 'occupation', 'relationship', 'race', 'gender',\n",
              "       'capital_gain', 'capital_loss', 'hours_per_week', 'native_country',\n",
              "       'Salary'],\n",
              "      dtype='object')"
            ]
          },
          "execution_count": 25,
          "metadata": {},
          "output_type": "execute_result"
        }
      ],
      "source": [
        "df.columns"
      ],
      "id": "d306f635"
    },
    {
      "cell_type": "markdown",
      "metadata": {
        "id": "b1bc0f27"
      },
      "source": [
        "### 3. Handling Outliers"
      ],
      "id": "b1bc0f27"
    },
    {
      "cell_type": "code",
      "execution_count": null,
      "metadata": {
        "id": "6aafe16f",
        "outputId": "b243ed9e-507e-4231-9dee-46b8d888f982"
      },
      "outputs": [
        {
          "data": {
            "image/png": "[encoded data removed]",
            "text/plain": [
              "<Figure size 432x288 with 1 Axes>"
            ]
          },
          "metadata": {},
          "output_type": "display_data"
        },
        {
          "data": {
            "image/png": "[encoded data removed]",
            "text/plain": [
              "<Figure size 432x288 with 1 Axes>"
            ]
          },
          "metadata": {},
          "output_type": "display_data"
        },
        {
          "data": {
            "image/png": "[encoded data removed]",
            "text/plain": [
              "<Figure size 432x288 with 1 Axes>"
            ]
          },
          "metadata": {},
          "output_type": "display_data"
        },
        {
          "data": {
            "image/png": "[encoded data removed]",
            "text/plain": [
              "<Figure size 432x288 with 1 Axes>"
            ]
          },
          "metadata": {},
          "output_type": "display_data"
        },
        {
          "data": {
            "image/png": "[encoded data removed]",
            "text/plain": [
              "<Figure size 432x288 with 1 Axes>"
            ]
          },
          "metadata": {},
          "output_type": "display_data"
        }
      ],
      "source": [
        "#checking outliers\n",
        "for i in  ['age','fnlwgt','capital_gain','capital_loss','hours_per_week']:\n",
        "    plt.title(i)\n",
        "    sns.boxplot(data=df[i])\n",
        "    plt.show()\n"
      ],
      "id": "6aafe16f"
    },
    {
      "cell_type": "code",
      "execution_count": null,
      "metadata": {
        "id": "7a235f55",
        "outputId": "101b7b36-ea78-4265-a61f-0d9821c47641"
      },
      "outputs": [
        {
          "data": {
            "text/html": [
              "<div>\n",
              "<style scoped>\n",
              "    .dataframe tbody tr th:only-of-type {\n",
              "        vertical-align: middle;\n",
              "    }\n",
              "\n",
              "    .dataframe tbody tr th {\n",
              "        vertical-align: top;\n",
              "    }\n",
              "\n",
              "    .dataframe thead th {\n",
              "        text-align: right;\n",
              "    }\n",
              "</style>\n",
              "<table border=\"1\" class=\"dataframe\">\n",
              "  <thead>\n",
              "    <tr style=\"text-align: right;\">\n",
              "      <th></th>\n",
              "      <th>age</th>\n",
              "      <th>workclass</th>\n",
              "      <th>fnlwgt</th>\n",
              "      <th>education</th>\n",
              "      <th>educational-num</th>\n",
              "      <th>marital-status</th>\n",
              "      <th>occupation</th>\n",
              "      <th>relationship</th>\n",
              "      <th>race</th>\n",
              "      <th>gender</th>\n",
              "      <th>capital_gain</th>\n",
              "      <th>capital_loss</th>\n",
              "      <th>hours_per_week</th>\n",
              "      <th>native_country</th>\n",
              "      <th>Salary</th>\n",
              "    </tr>\n",
              "  </thead>\n",
              "  <tbody>\n",
              "    <tr>\n",
              "      <th>0</th>\n",
              "      <td>25</td>\n",
              "      <td>Private</td>\n",
              "      <td>226802</td>\n",
              "      <td>11th</td>\n",
              "      <td>7</td>\n",
              "      <td>Never-married</td>\n",
              "      <td>Machine-op-inspct</td>\n",
              "      <td>Own-child</td>\n",
              "      <td>Black</td>\n",
              "      <td>Male</td>\n",
              "      <td>0</td>\n",
              "      <td>0</td>\n",
              "      <td>40</td>\n",
              "      <td>United-States</td>\n",
              "      <td>&lt;=50K</td>\n",
              "    </tr>\n",
              "    <tr>\n",
              "      <th>1</th>\n",
              "      <td>38</td>\n",
              "      <td>Private</td>\n",
              "      <td>89814</td>\n",
              "      <td>HS-grad</td>\n",
              "      <td>9</td>\n",
              "      <td>Married-civ-spouse</td>\n",
              "      <td>Farming-fishing</td>\n",
              "      <td>Husband</td>\n",
              "      <td>White</td>\n",
              "      <td>Male</td>\n",
              "      <td>0</td>\n",
              "      <td>0</td>\n",
              "      <td>50</td>\n",
              "      <td>United-States</td>\n",
              "      <td>&lt;=50K</td>\n",
              "    </tr>\n",
              "    <tr>\n",
              "      <th>2</th>\n",
              "      <td>28</td>\n",
              "      <td>Local-gov</td>\n",
              "      <td>336951</td>\n",
              "      <td>Assoc-acdm</td>\n",
              "      <td>12</td>\n",
              "      <td>Married-civ-spouse</td>\n",
              "      <td>Protective-serv</td>\n",
              "      <td>Husband</td>\n",
              "      <td>White</td>\n",
              "      <td>Male</td>\n",
              "      <td>0</td>\n",
              "      <td>0</td>\n",
              "      <td>40</td>\n",
              "      <td>United-States</td>\n",
              "      <td>&gt;50K</td>\n",
              "    </tr>\n",
              "    <tr>\n",
              "      <th>3</th>\n",
              "      <td>44</td>\n",
              "      <td>Private</td>\n",
              "      <td>160323</td>\n",
              "      <td>Some-college</td>\n",
              "      <td>10</td>\n",
              "      <td>Married-civ-spouse</td>\n",
              "      <td>Machine-op-inspct</td>\n",
              "      <td>Husband</td>\n",
              "      <td>Black</td>\n",
              "      <td>Male</td>\n",
              "      <td>7688</td>\n",
              "      <td>0</td>\n",
              "      <td>40</td>\n",
              "      <td>United-States</td>\n",
              "      <td>&gt;50K</td>\n",
              "    </tr>\n",
              "    <tr>\n",
              "      <th>4</th>\n",
              "      <td>18</td>\n",
              "      <td>Private</td>\n",
              "      <td>103497</td>\n",
              "      <td>Some-college</td>\n",
              "      <td>10</td>\n",
              "      <td>Never-married</td>\n",
              "      <td>Prof-specialty</td>\n",
              "      <td>Own-child</td>\n",
              "      <td>White</td>\n",
              "      <td>Female</td>\n",
              "      <td>0</td>\n",
              "      <td>0</td>\n",
              "      <td>30</td>\n",
              "      <td>United-States</td>\n",
              "      <td>&lt;=50K</td>\n",
              "    </tr>\n",
              "  </tbody>\n",
              "</table>\n",
              "</div>"
            ],
            "text/plain": [
              "   age  workclass  fnlwgt     education  educational-num      marital-status  \\\n",
              "0   25    Private  226802          11th                7       Never-married   \n",
              "1   38    Private   89814       HS-grad                9  Married-civ-spouse   \n",
              "2   28  Local-gov  336951    Assoc-acdm               12  Married-civ-spouse   \n",
              "3   44    Private  160323  Some-college               10  Married-civ-spouse   \n",
              "4   18    Private  103497  Some-college               10       Never-married   \n",
              "\n",
              "          occupation relationship   race  gender  capital_gain  capital_loss  \\\n",
              "0  Machine-op-inspct    Own-child  Black    Male             0             0   \n",
              "1    Farming-fishing      Husband  White    Male             0             0   \n",
              "2    Protective-serv      Husband  White    Male             0             0   \n",
              "3  Machine-op-inspct      Husband  Black    Male          7688             0   \n",
              "4     Prof-specialty    Own-child  White  Female             0             0   \n",
              "\n",
              "   hours_per_week native_country Salary  \n",
              "0              40  United-States  <=50K  \n",
              "1              50  United-States  <=50K  \n",
              "2              40  United-States   >50K  \n",
              "3              40  United-States   >50K  \n",
              "4              30  United-States  <=50K  "
            ]
          },
          "execution_count": 27,
          "metadata": {},
          "output_type": "execute_result"
        }
      ],
      "source": [
        "df1 =df\n",
        "df1.head()"
      ],
      "id": "7a235f55"
    },
    {
      "cell_type": "markdown",
      "metadata": {
        "id": "9bca76c4"
      },
      "source": [
        "#### Handling outliers with Age"
      ],
      "id": "9bca76c4"
    },
    {
      "cell_type": "code",
      "execution_count": null,
      "metadata": {
        "id": "e7b376c5"
      },
      "outputs": [],
      "source": [
        "q1 = np.percentile(df1['age'],25,interpolation = 'midpoint')\n",
        "q3 = np.percentile(df1['age'],75,interpolation ='midpoint')\n",
        "\n",
        "IQR = q3 - q1\n",
        "low_limit = q1 - 1.5*IQR\n",
        "high_limit = q3+ 1.5*IQR\n",
        "\n",
        "index = df1['age'][(df1['age']<low_limit)|(df1['age']>high_limit)].index\n",
        "df1.drop(index,inplace =True)"
      ],
      "id": "e7b376c5"
    },
    {
      "cell_type": "markdown",
      "metadata": {
        "id": "2942be03"
      },
      "source": [
        "### Handling outliers with fnlwgt"
      ],
      "id": "2942be03"
    },
    {
      "cell_type": "code",
      "execution_count": null,
      "metadata": {
        "id": "0db0547f"
      },
      "outputs": [],
      "source": [
        "q1 = np.percentile(df1['fnlwgt'],25,interpolation = 'midpoint')\n",
        "q3 = np.percentile(df1['fnlwgt'],75,interpolation ='midpoint')\n",
        "\n",
        "IQR = q3 - q1\n",
        "low_limit = q1 - 1.5*IQR\n",
        "high_limit = q3 + 1.5*IQR\n",
        "\n",
        "index = df1['fnlwgt'][(df1['fnlwgt']<low_limit)|(df1['fnlwgt']>high_limit)].index\n",
        "df1.drop(index,inplace =True)"
      ],
      "id": "0db0547f"
    },
    {
      "cell_type": "markdown",
      "metadata": {
        "id": "7ff97a8c"
      },
      "source": [
        "### Handling outliers with Capital_gain"
      ],
      "id": "7ff97a8c"
    },
    {
      "cell_type": "code",
      "execution_count": null,
      "metadata": {
        "id": "8eac423f"
      },
      "outputs": [],
      "source": [
        "q1 = np.percentile(df1['capital_gain'],25,interpolation = 'midpoint')\n",
        "q3 = np.percentile(df1['capital_gain'],75,interpolation ='midpoint')\n",
        "\n",
        "IQR = q3 - q1\n",
        "low_limit = q1 - 1.5*IQR\n",
        "high_limit = q3 + 1.5*IQR\n",
        "\n",
        "index = df1['capital_gain'][(df1['capital_gain']<low_limit)|(df1['capital_gain']>high_limit)].index\n",
        "df1.drop(index,inplace =True)"
      ],
      "id": "8eac423f"
    },
    {
      "cell_type": "markdown",
      "metadata": {
        "id": "a42f7fe6"
      },
      "source": [
        "### Handling outliers with Capital_loss"
      ],
      "id": "a42f7fe6"
    },
    {
      "cell_type": "code",
      "execution_count": null,
      "metadata": {
        "id": "45cd3212"
      },
      "outputs": [],
      "source": [
        "q1 = np.percentile(df1['capital_loss'],25,interpolation = 'midpoint')\n",
        "q3 = np.percentile(df1['capital_loss'],75,interpolation ='midpoint')\n",
        "\n",
        "IQR = q3 - q1\n",
        "low_limit = q1 - 1.5*IQR\n",
        "high_limit = q3 + 1.5*IQR\n",
        "\n",
        "index = df1['capital_loss'][(df1['capital_loss']<low_limit)|(df1['capital_loss']>high_limit)].index\n",
        "df1.drop(index,inplace =True)"
      ],
      "id": "45cd3212"
    },
    {
      "cell_type": "markdown",
      "metadata": {
        "id": "450d7e06"
      },
      "source": [
        "### Handling outliers with Hours_per_week"
      ],
      "id": "450d7e06"
    },
    {
      "cell_type": "code",
      "execution_count": null,
      "metadata": {
        "id": "2061c939"
      },
      "outputs": [],
      "source": [
        "q1 = np.percentile(df1['hours_per_week'],25,interpolation = 'midpoint')\n",
        "q3 = np.percentile(df1['hours_per_week'],75,interpolation ='midpoint')\n",
        "\n",
        "IQR = q3 - q1\n",
        "low_limit = q1 - 1.5*IQR\n",
        "high_limit = q3 + 1.5*IQR\n",
        "\n",
        "index = df1['hours_per_week'][(df1['hours_per_week']<low_limit)|(df1['hours_per_week']>high_limit)].index\n",
        "df1.drop(index,inplace =True)"
      ],
      "id": "2061c939"
    },
    {
      "cell_type": "code",
      "execution_count": null,
      "metadata": {
        "id": "b33a40f7",
        "outputId": "3294ec74-ad97-4b33-9e84-bce875cb92b1"
      },
      "outputs": [
        {
          "data": {
            "image/png": "[encoded data removed]",
            "text/plain": [
              "<Figure size 432x288 with 1 Axes>"
            ]
          },
          "metadata": {},
          "output_type": "display_data"
        },
        {
          "data": {
            "image/png": "[encoded data removed]",
            "text/plain": [
              "<Figure size 432x288 with 1 Axes>"
            ]
          },
          "metadata": {},
          "output_type": "display_data"
        },
        {
          "data": {
            "image/png": "[encoded data removed]",
            "text/plain": [
              "<Figure size 432x288 with 1 Axes>"
            ]
          },
          "metadata": {},
          "output_type": "display_data"
        },
        {
          "data": {
            "image/png": "[encoded data removed]",
            "text/plain": [
              "<Figure size 432x288 with 1 Axes>"
            ]
          },
          "metadata": {},
          "output_type": "display_data"
        },
        {
          "data": {
            "image/png": "[encoded data removed]",
            "text/plain": [
              "<Figure size 432x288 with 1 Axes>"
            ]
          },
          "metadata": {},
          "output_type": "display_data"
        }
      ],
      "source": [
        "#checking outliers\n",
        "\n",
        "for i in  ['age','fnlwgt','capital_gain','capital_loss','hours_per_week']:\n",
        "    plt.title(i)\n",
        "    sns.boxplot(data=df1[i])\n",
        "    plt.show()"
      ],
      "id": "b33a40f7"
    },
    {
      "cell_type": "markdown",
      "metadata": {
        "id": "5ee8093a"
      },
      "source": [
        "### 5.Exploratory Data Analysis"
      ],
      "id": "5ee8093a"
    },
    {
      "cell_type": "markdown",
      "metadata": {
        "id": "1c97dd9a"
      },
      "source": [
        "##### Check descriptive statistics - Numerical columns"
      ],
      "id": "1c97dd9a"
    },
    {
      "cell_type": "code",
      "execution_count": null,
      "metadata": {
        "id": "f84aa787",
        "outputId": "4ab60b05-25fc-4369-a293-98c34a3fbffb"
      },
      "outputs": [
        {
          "data": {
            "text/html": [
              "<div>\n",
              "<style scoped>\n",
              "    .dataframe tbody tr th:only-of-type {\n",
              "        vertical-align: middle;\n",
              "    }\n",
              "\n",
              "    .dataframe tbody tr th {\n",
              "        vertical-align: top;\n",
              "    }\n",
              "\n",
              "    .dataframe thead th {\n",
              "        text-align: right;\n",
              "    }\n",
              "</style>\n",
              "<table border=\"1\" class=\"dataframe\">\n",
              "  <thead>\n",
              "    <tr style=\"text-align: right;\">\n",
              "      <th></th>\n",
              "      <th>age</th>\n",
              "      <th>fnlwgt</th>\n",
              "      <th>educational-num</th>\n",
              "      <th>capital_gain</th>\n",
              "      <th>capital_loss</th>\n",
              "      <th>hours_per_week</th>\n",
              "    </tr>\n",
              "  </thead>\n",
              "  <tbody>\n",
              "    <tr>\n",
              "      <th>count</th>\n",
              "      <td>29612.000000</td>\n",
              "      <td>29612.000000</td>\n",
              "      <td>29612.000000</td>\n",
              "      <td>29612.0</td>\n",
              "      <td>29612.0</td>\n",
              "      <td>29612.000000</td>\n",
              "    </tr>\n",
              "    <tr>\n",
              "      <th>mean</th>\n",
              "      <td>38.306430</td>\n",
              "      <td>181242.372180</td>\n",
              "      <td>9.990207</td>\n",
              "      <td>0.0</td>\n",
              "      <td>0.0</td>\n",
              "      <td>41.443469</td>\n",
              "    </tr>\n",
              "    <tr>\n",
              "      <th>std</th>\n",
              "      <td>12.221412</td>\n",
              "      <td>87329.732998</td>\n",
              "      <td>2.487775</td>\n",
              "      <td>0.0</td>\n",
              "      <td>0.0</td>\n",
              "      <td>3.946667</td>\n",
              "    </tr>\n",
              "    <tr>\n",
              "      <th>min</th>\n",
              "      <td>17.000000</td>\n",
              "      <td>13769.000000</td>\n",
              "      <td>1.000000</td>\n",
              "      <td>0.0</td>\n",
              "      <td>0.0</td>\n",
              "      <td>33.000000</td>\n",
              "    </tr>\n",
              "    <tr>\n",
              "      <th>25%</th>\n",
              "      <td>28.000000</td>\n",
              "      <td>117222.000000</td>\n",
              "      <td>9.000000</td>\n",
              "      <td>0.0</td>\n",
              "      <td>0.0</td>\n",
              "      <td>40.000000</td>\n",
              "    </tr>\n",
              "    <tr>\n",
              "      <th>50%</th>\n",
              "      <td>37.000000</td>\n",
              "      <td>177083.000000</td>\n",
              "      <td>10.000000</td>\n",
              "      <td>0.0</td>\n",
              "      <td>0.0</td>\n",
              "      <td>40.000000</td>\n",
              "    </tr>\n",
              "    <tr>\n",
              "      <th>75%</th>\n",
              "      <td>47.000000</td>\n",
              "      <td>230961.000000</td>\n",
              "      <td>12.000000</td>\n",
              "      <td>0.0</td>\n",
              "      <td>0.0</td>\n",
              "      <td>40.000000</td>\n",
              "    </tr>\n",
              "    <tr>\n",
              "      <th>max</th>\n",
              "      <td>78.000000</td>\n",
              "      <td>417668.000000</td>\n",
              "      <td>16.000000</td>\n",
              "      <td>0.0</td>\n",
              "      <td>0.0</td>\n",
              "      <td>52.000000</td>\n",
              "    </tr>\n",
              "  </tbody>\n",
              "</table>\n",
              "</div>"
            ],
            "text/plain": [
              "                age         fnlwgt  educational-num  capital_gain  \\\n",
              "count  29612.000000   29612.000000     29612.000000       29612.0   \n",
              "mean      38.306430  181242.372180         9.990207           0.0   \n",
              "std       12.221412   87329.732998         2.487775           0.0   \n",
              "min       17.000000   13769.000000         1.000000           0.0   \n",
              "25%       28.000000  117222.000000         9.000000           0.0   \n",
              "50%       37.000000  177083.000000        10.000000           0.0   \n",
              "75%       47.000000  230961.000000        12.000000           0.0   \n",
              "max       78.000000  417668.000000        16.000000           0.0   \n",
              "\n",
              "       capital_loss  hours_per_week  \n",
              "count       29612.0    29612.000000  \n",
              "mean            0.0       41.443469  \n",
              "std             0.0        3.946667  \n",
              "min             0.0       33.000000  \n",
              "25%             0.0       40.000000  \n",
              "50%             0.0       40.000000  \n",
              "75%             0.0       40.000000  \n",
              "max             0.0       52.000000  "
            ]
          },
          "execution_count": 34,
          "metadata": {},
          "output_type": "execute_result"
        }
      ],
      "source": [
        "df1.describe()"
      ],
      "id": "f84aa787"
    },
    {
      "cell_type": "markdown",
      "metadata": {
        "id": "4a115b20"
      },
      "source": [
        "##### Check descriptive statistics - categorical columns"
      ],
      "id": "4a115b20"
    },
    {
      "cell_type": "code",
      "execution_count": null,
      "metadata": {
        "id": "6e5c4ec0",
        "outputId": "fb9c8cd2-af80-4206-b5aa-fbac521baee0"
      },
      "outputs": [
        {
          "data": {
            "text/html": [
              "<div>\n",
              "<style scoped>\n",
              "    .dataframe tbody tr th:only-of-type {\n",
              "        vertical-align: middle;\n",
              "    }\n",
              "\n",
              "    .dataframe tbody tr th {\n",
              "        vertical-align: top;\n",
              "    }\n",
              "\n",
              "    .dataframe thead th {\n",
              "        text-align: right;\n",
              "    }\n",
              "</style>\n",
              "<table border=\"1\" class=\"dataframe\">\n",
              "  <thead>\n",
              "    <tr style=\"text-align: right;\">\n",
              "      <th></th>\n",
              "      <th>workclass</th>\n",
              "      <th>education</th>\n",
              "      <th>marital-status</th>\n",
              "      <th>occupation</th>\n",
              "      <th>relationship</th>\n",
              "      <th>race</th>\n",
              "      <th>gender</th>\n",
              "      <th>native_country</th>\n",
              "      <th>Salary</th>\n",
              "    </tr>\n",
              "  </thead>\n",
              "  <tbody>\n",
              "    <tr>\n",
              "      <th>count</th>\n",
              "      <td>29612</td>\n",
              "      <td>29612</td>\n",
              "      <td>29612</td>\n",
              "      <td>29612</td>\n",
              "      <td>29612</td>\n",
              "      <td>29612</td>\n",
              "      <td>29612</td>\n",
              "      <td>29612</td>\n",
              "      <td>29612</td>\n",
              "    </tr>\n",
              "    <tr>\n",
              "      <th>unique</th>\n",
              "      <td>8</td>\n",
              "      <td>16</td>\n",
              "      <td>7</td>\n",
              "      <td>14</td>\n",
              "      <td>6</td>\n",
              "      <td>5</td>\n",
              "      <td>2</td>\n",
              "      <td>40</td>\n",
              "      <td>2</td>\n",
              "    </tr>\n",
              "    <tr>\n",
              "      <th>top</th>\n",
              "      <td>Private</td>\n",
              "      <td>HS-grad</td>\n",
              "      <td>Married-civ-spouse</td>\n",
              "      <td>Prof-specialty</td>\n",
              "      <td>Husband</td>\n",
              "      <td>White</td>\n",
              "      <td>Male</td>\n",
              "      <td>United-States</td>\n",
              "      <td>&lt;=50K</td>\n",
              "    </tr>\n",
              "    <tr>\n",
              "      <th>freq</th>\n",
              "      <td>22780</td>\n",
              "      <td>10458</td>\n",
              "      <td>13443</td>\n",
              "      <td>4731</td>\n",
              "      <td>11946</td>\n",
              "      <td>25041</td>\n",
              "      <td>19941</td>\n",
              "      <td>26956</td>\n",
              "      <td>23553</td>\n",
              "    </tr>\n",
              "  </tbody>\n",
              "</table>\n",
              "</div>"
            ],
            "text/plain": [
              "       workclass education      marital-status      occupation relationship  \\\n",
              "count      29612     29612               29612           29612        29612   \n",
              "unique         8        16                   7              14            6   \n",
              "top      Private   HS-grad  Married-civ-spouse  Prof-specialty      Husband   \n",
              "freq       22780     10458               13443            4731        11946   \n",
              "\n",
              "         race gender native_country Salary  \n",
              "count   29612  29612          29612  29612  \n",
              "unique      5      2             40      2  \n",
              "top     White   Male  United-States  <=50K  \n",
              "freq    25041  19941          26956  23553  "
            ]
          },
          "execution_count": 35,
          "metadata": {},
          "output_type": "execute_result"
        }
      ],
      "source": [
        "df1.describe(exclude='number')"
      ],
      "id": "6e5c4ec0"
    },
    {
      "cell_type": "markdown",
      "metadata": {
        "id": "0dae1a49"
      },
      "source": [
        "##### check 'education' & 'educational-num' columns"
      ],
      "id": "0dae1a49"
    },
    {
      "cell_type": "code",
      "execution_count": null,
      "metadata": {
        "id": "1070333e",
        "outputId": "58bdcc3d-370c-4a41-fcf7-10ae83b39d5a"
      },
      "outputs": [
        {
          "data": {
            "text/plain": [
              "array(['11th', 'HS-grad', 'Assoc-acdm', 'Some-college', 'Bachelors',\n",
              "       'Masters', 'Doctorate', '5th-6th', '10th', 'Assoc-voc', '7th-8th',\n",
              "       '9th', 'Prof-school', '12th', '1st-4th', 'Preschool'], dtype=object)"
            ]
          },
          "execution_count": 36,
          "metadata": {},
          "output_type": "execute_result"
        }
      ],
      "source": [
        "df1['education'].unique()"
      ],
      "id": "1070333e"
    },
    {
      "cell_type": "code",
      "execution_count": null,
      "metadata": {
        "id": "dc4de7e8",
        "outputId": "501eecc1-0b34-40e5-cae5-788a63e39b72"
      },
      "outputs": [
        {
          "data": {
            "text/plain": [
              "array([ 7,  9, 12, 10, 13, 14, 16,  3,  6, 11,  4,  5, 15,  8,  2,  1],\n",
              "      dtype=int64)"
            ]
          },
          "execution_count": 37,
          "metadata": {},
          "output_type": "execute_result"
        }
      ],
      "source": [
        "df1['educational-num'].unique()"
      ],
      "id": "dc4de7e8"
    },
    {
      "cell_type": "markdown",
      "metadata": {
        "id": "a9772097"
      },
      "source": [
        "As we can see, 'education' & 'educational-num' both columns have similiar values\n",
        "- 'education' has string values\n",
        "- 'educational-num' has numerical values\n",
        "- preschool  from education represents 1 in education num column , All HS- grad from education\n",
        "column represnts 9 in education -num and likewise\n",
        "-Both columns conveying same information\n",
        "-so we can remove 'education-num' column"
      ],
      "id": "a9772097"
    },
    {
      "cell_type": "markdown",
      "metadata": {
        "id": "fbdd1672"
      },
      "source": [
        "## 6.Feature Reduction"
      ],
      "id": "fbdd1672"
    },
    {
      "cell_type": "markdown",
      "metadata": {
        "id": "ce580356"
      },
      "source": [
        "-while analyzing the dataset\n",
        "-As we can see in 'descriptive statistics-Numerical columns'\n",
        "      - 'capital gain' and 'capital loss' both columns have 75% data\n",
        "- the column , education-num is the numerical version of column education , so also drop it*"
      ],
      "id": "ce580356"
    },
    {
      "cell_type": "code",
      "execution_count": null,
      "metadata": {
        "id": "13844e54",
        "outputId": "b7f738ee-e80c-45e7-ff08-2d1a754016a2"
      },
      "outputs": [
        {
          "data": {
            "text/html": [
              "<div>\n",
              "<style scoped>\n",
              "    .dataframe tbody tr th:only-of-type {\n",
              "        vertical-align: middle;\n",
              "    }\n",
              "\n",
              "    .dataframe tbody tr th {\n",
              "        vertical-align: top;\n",
              "    }\n",
              "\n",
              "    .dataframe thead th {\n",
              "        text-align: right;\n",
              "    }\n",
              "</style>\n",
              "<table border=\"1\" class=\"dataframe\">\n",
              "  <thead>\n",
              "    <tr style=\"text-align: right;\">\n",
              "      <th></th>\n",
              "      <th>age</th>\n",
              "      <th>workclass</th>\n",
              "      <th>fnlwgt</th>\n",
              "      <th>education</th>\n",
              "      <th>marital-status</th>\n",
              "      <th>occupation</th>\n",
              "      <th>relationship</th>\n",
              "      <th>race</th>\n",
              "      <th>gender</th>\n",
              "      <th>hours_per_week</th>\n",
              "      <th>native_country</th>\n",
              "      <th>Salary</th>\n",
              "    </tr>\n",
              "  </thead>\n",
              "  <tbody>\n",
              "    <tr>\n",
              "      <th>0</th>\n",
              "      <td>25</td>\n",
              "      <td>Private</td>\n",
              "      <td>226802</td>\n",
              "      <td>11th</td>\n",
              "      <td>Never-married</td>\n",
              "      <td>Machine-op-inspct</td>\n",
              "      <td>Own-child</td>\n",
              "      <td>Black</td>\n",
              "      <td>Male</td>\n",
              "      <td>40</td>\n",
              "      <td>United-States</td>\n",
              "      <td>&lt;=50K</td>\n",
              "    </tr>\n",
              "    <tr>\n",
              "      <th>1</th>\n",
              "      <td>38</td>\n",
              "      <td>Private</td>\n",
              "      <td>89814</td>\n",
              "      <td>HS-grad</td>\n",
              "      <td>Married-civ-spouse</td>\n",
              "      <td>Farming-fishing</td>\n",
              "      <td>Husband</td>\n",
              "      <td>White</td>\n",
              "      <td>Male</td>\n",
              "      <td>50</td>\n",
              "      <td>United-States</td>\n",
              "      <td>&lt;=50K</td>\n",
              "    </tr>\n",
              "    <tr>\n",
              "      <th>2</th>\n",
              "      <td>28</td>\n",
              "      <td>Local-gov</td>\n",
              "      <td>336951</td>\n",
              "      <td>Assoc-acdm</td>\n",
              "      <td>Married-civ-spouse</td>\n",
              "      <td>Protective-serv</td>\n",
              "      <td>Husband</td>\n",
              "      <td>White</td>\n",
              "      <td>Male</td>\n",
              "      <td>40</td>\n",
              "      <td>United-States</td>\n",
              "      <td>&gt;50K</td>\n",
              "    </tr>\n",
              "    <tr>\n",
              "      <th>6</th>\n",
              "      <td>29</td>\n",
              "      <td>Private</td>\n",
              "      <td>227026</td>\n",
              "      <td>HS-grad</td>\n",
              "      <td>Never-married</td>\n",
              "      <td>Prof-specialty</td>\n",
              "      <td>Unmarried</td>\n",
              "      <td>Black</td>\n",
              "      <td>Male</td>\n",
              "      <td>40</td>\n",
              "      <td>United-States</td>\n",
              "      <td>&lt;=50K</td>\n",
              "    </tr>\n",
              "    <tr>\n",
              "      <th>8</th>\n",
              "      <td>24</td>\n",
              "      <td>Private</td>\n",
              "      <td>369667</td>\n",
              "      <td>Some-college</td>\n",
              "      <td>Never-married</td>\n",
              "      <td>Other-service</td>\n",
              "      <td>Unmarried</td>\n",
              "      <td>White</td>\n",
              "      <td>Female</td>\n",
              "      <td>40</td>\n",
              "      <td>United-States</td>\n",
              "      <td>&lt;=50K</td>\n",
              "    </tr>\n",
              "  </tbody>\n",
              "</table>\n",
              "</div>"
            ],
            "text/plain": [
              "   age  workclass  fnlwgt     education      marital-status  \\\n",
              "0   25    Private  226802          11th       Never-married   \n",
              "1   38    Private   89814       HS-grad  Married-civ-spouse   \n",
              "2   28  Local-gov  336951    Assoc-acdm  Married-civ-spouse   \n",
              "6   29    Private  227026       HS-grad       Never-married   \n",
              "8   24    Private  369667  Some-college       Never-married   \n",
              "\n",
              "          occupation relationship   race  gender  hours_per_week  \\\n",
              "0  Machine-op-inspct    Own-child  Black    Male              40   \n",
              "1    Farming-fishing      Husband  White    Male              50   \n",
              "2    Protective-serv      Husband  White    Male              40   \n",
              "6     Prof-specialty    Unmarried  Black    Male              40   \n",
              "8      Other-service    Unmarried  White  Female              40   \n",
              "\n",
              "  native_country Salary  \n",
              "0  United-States  <=50K  \n",
              "1  United-States  <=50K  \n",
              "2  United-States   >50K  \n",
              "6  United-States  <=50K  \n",
              "8  United-States  <=50K  "
            ]
          },
          "execution_count": 38,
          "metadata": {},
          "output_type": "execute_result"
        }
      ],
      "source": [
        "df1.drop(['capital_gain','capital_loss','educational-num'],axis = 1,inplace=True)\n",
        "df1.head()"
      ],
      "id": "13844e54"
    },
    {
      "cell_type": "code",
      "execution_count": null,
      "metadata": {
        "id": "f3137dea",
        "outputId": "535f5d6b-13a0-4221-991d-261b74177bb2"
      },
      "outputs": [
        {
          "data": {
            "text/plain": [
              "(29612, 12)"
            ]
          },
          "execution_count": 39,
          "metadata": {},
          "output_type": "execute_result"
        }
      ],
      "source": [
        "df1.shape"
      ],
      "id": "f3137dea"
    },
    {
      "cell_type": "markdown",
      "metadata": {
        "id": "4c34178a"
      },
      "source": [
        "**Now, we need to convert the categorical values to numeric for modeling.Looking at the Maritial status col**\n",
        "**there are nearly 6 different values which would mean the same as two values of being married or not married,\n",
        "-therefore we convert them into only two values**"
      ],
      "id": "4c34178a"
    },
    {
      "cell_type": "code",
      "execution_count": null,
      "metadata": {
        "id": "c4abb085",
        "outputId": "196dd375-0021-4b95-f54c-9d3cd337b119"
      },
      "outputs": [
        {
          "data": {
            "text/plain": [
              "married        13864\n",
              "not married    11217\n",
              "divorced        4531\n",
              "Name: marital-status, dtype: int64"
            ]
          },
          "execution_count": 40,
          "metadata": {},
          "output_type": "execute_result"
        }
      ],
      "source": [
        "df1.replace(['Divorced', 'Married-AF-spouse', 'Married-civ-spouse', 'Married-spouse-absent','Never-married','Separated','Widowed'],\n",
        "             ['divorced','married','married','married','not married','not married','not married'], inplace = True)\n",
        "df1['marital-status'].value_counts()"
      ],
      "id": "c4abb085"
    },
    {
      "cell_type": "code",
      "execution_count": null,
      "metadata": {
        "id": "3b56de4c"
      },
      "outputs": [],
      "source": [
        "#Before do further Analysis , we will seperate the data as numeric and categorical...so that our analysis becomes easy"
      ],
      "id": "3b56de4c"
    },
    {
      "cell_type": "markdown",
      "metadata": {
        "id": "d7839208"
      },
      "source": [
        "##### Numeric Features"
      ],
      "id": "d7839208"
    },
    {
      "cell_type": "code",
      "execution_count": null,
      "metadata": {
        "id": "4ec8080c"
      },
      "outputs": [],
      "source": [
        "numeric_data = df1.select_dtypes(include=np.number)\n",
        "numeric_col = numeric_data.columns"
      ],
      "id": "4ec8080c"
    },
    {
      "cell_type": "code",
      "execution_count": null,
      "metadata": {
        "id": "0771d8bc",
        "outputId": "850a8916-6959-40dd-9128-00ac18d71f0b"
      },
      "outputs": [
        {
          "name": "stdout",
          "output_type": "stream",
          "text": [
            "Numeric features: \n",
            "   age  fnlwgt  hours_per_week\n",
            "0   25  226802              40\n",
            "1   38   89814              50\n",
            "2   28  336951              40\n",
            "6   29  227026              40\n",
            "8   24  369667              40\n",
            "--------------------------------------------------------------------------------\n"
          ]
        }
      ],
      "source": [
        "print('Numeric features: ')\n",
        "print(numeric_data.head())\n",
        "print('----'*20)"
      ],
      "id": "0771d8bc"
    },
    {
      "cell_type": "markdown",
      "metadata": {
        "id": "b259bdaa"
      },
      "source": [
        "##### Categorical features"
      ],
      "id": "b259bdaa"
    },
    {
      "cell_type": "code",
      "execution_count": null,
      "metadata": {
        "id": "aca26504",
        "outputId": "4b5a9b06-cb5c-44bd-e3d9-b3c2cfe55fe9"
      },
      "outputs": [
        {
          "name": "stdout",
          "output_type": "stream",
          "text": [
            "categorical: \n",
            "   workclass     education marital-status         occupation relationship  \\\n",
            "0    Private          11th    not married  Machine-op-inspct    Own-child   \n",
            "1    Private       HS-grad        married    Farming-fishing      Husband   \n",
            "2  Local-gov    Assoc-acdm        married    Protective-serv      Husband   \n",
            "6    Private       HS-grad    not married     Prof-specialty    Unmarried   \n",
            "8    Private  Some-college    not married      Other-service    Unmarried   \n",
            "\n",
            "    race  gender native_country Salary  \n",
            "0  Black    Male  United-States  <=50K  \n",
            "1  White    Male  United-States  <=50K  \n",
            "2  White    Male  United-States   >50K  \n",
            "6  Black    Male  United-States  <=50K  \n",
            "8  White  Female  United-States  <=50K  \n",
            "--------------------------------------------------------------------------------\n"
          ]
        }
      ],
      "source": [
        "categorical_data = df1.select_dtypes(exclude=np.number)\n",
        "categorical = categorical_data.columns\n",
        "print('categorical: ')\n",
        "print(categorical_data.head())\n",
        "print('----'*20)"
      ],
      "id": "aca26504"
    },
    {
      "cell_type": "markdown",
      "metadata": {
        "id": "defae3df"
      },
      "source": [
        "# 7.Data Visualization"
      ],
      "id": "defae3df"
    },
    {
      "cell_type": "markdown",
      "metadata": {
        "id": "634086bb"
      },
      "source": [
        "### Univariate Analysis"
      ],
      "id": "634086bb"
    },
    {
      "cell_type": "markdown",
      "metadata": {
        "id": "fa774896"
      },
      "source": [
        "#### Numeric Data:-"
      ],
      "id": "fa774896"
    },
    {
      "cell_type": "code",
      "execution_count": null,
      "metadata": {
        "id": "5c68fd5f",
        "outputId": "ae5d4956-caca-4c80-f7e9-2aa9329759b9"
      },
      "outputs": [
        {
          "data": {
            "text/plain": [
              "array([[<AxesSubplot:title={'center':'age'}>,\n",
              "        <AxesSubplot:title={'center':'fnlwgt'}>],\n",
              "       [<AxesSubplot:title={'center':'hours_per_week'}>, <AxesSubplot:>]],\n",
              "      dtype=object)"
            ]
          },
          "execution_count": 45,
          "metadata": {},
          "output_type": "execute_result"
        },
        {
          "data": {
            "image/png": "[encoded data removed]",
            "text/plain": [
              "<Figure size 864x864 with 4 Axes>"
            ]
          },
          "metadata": {},
          "output_type": "display_data"
        }
      ],
      "source": [
        "#lets see hoe numeric data is distributed for every column\n",
        "df1.hist(figsize=(12,12),sharex=False)"
      ],
      "id": "5c68fd5f"
    },
    {
      "cell_type": "markdown",
      "metadata": {
        "id": "763b3f56"
      },
      "source": [
        "##### Findings"
      ],
      "id": "763b3f56"
    },
    {
      "cell_type": "code",
      "execution_count": null,
      "metadata": {
        "id": "5cf2ec4e"
      },
      "outputs": [],
      "source": [
        "#minimum age is 18 and maximum is 78 years, most of working age group lies between 20-40"
      ],
      "id": "5cf2ec4e"
    },
    {
      "cell_type": "markdown",
      "metadata": {
        "id": "7721541b"
      },
      "source": [
        "##### categorical Data"
      ],
      "id": "7721541b"
    },
    {
      "cell_type": "code",
      "execution_count": null,
      "metadata": {
        "id": "7ee22d77",
        "outputId": "4e683369-582c-43a0-976c-8103b9351aeb"
      },
      "outputs": [
        {
          "data": {
            "image/png": "[encoded data removed]",
            "text/plain": [
              "<Figure size 1440x1440 with 9 Axes>"
            ]
          },
          "metadata": {},
          "output_type": "display_data"
        }
      ],
      "source": [
        "plt.figure(figsize=(20,20),facecolor='yellow')\n",
        "plotnumber =1\n",
        "\n",
        "for column in categorical_data:\n",
        "    if plotnumber <=16:\n",
        "        ax = plt.subplot(3,3,plotnumber)\n",
        "        categorical_data[column].value_counts().plot(kind='bar')\n",
        "        plt.xlabel(column,fontsize=20)\n",
        "    plotnumber += 1\n",
        "plt.tight_layout()"
      ],
      "id": "7ee22d77"
    },
    {
      "cell_type": "markdown",
      "metadata": {
        "id": "f06c1f12"
      },
      "source": [
        "#### Findings"
      ],
      "id": "f06c1f12"
    },
    {
      "cell_type": "raw",
      "metadata": {
        "id": "79681ffa"
      },
      "source": [
        "if we look at the workclass variable we can see that 74% people are privately employed\n",
        "majority of people have completed high graduation\n",
        "92% are white peoples\n",
        "96% belongs to US\n",
        "\"25% people have salary above 50K and 75% below 50K, this indicate that , we have imbalanced data\""
      ],
      "id": "79681ffa"
    },
    {
      "cell_type": "markdown",
      "metadata": {
        "id": "ac35a75c"
      },
      "source": [
        "### Bi-variate Analysis"
      ],
      "id": "ac35a75c"
    },
    {
      "cell_type": "code",
      "execution_count": null,
      "metadata": {
        "id": "4739aac6"
      },
      "outputs": [],
      "source": [
        "#plot numeric variable against salary variable"
      ],
      "id": "4739aac6"
    },
    {
      "cell_type": "code",
      "execution_count": null,
      "metadata": {
        "id": "54b6d838",
        "outputId": "6a30bbd1-7b5b-4b3c-9e64-2e2b03081bd8"
      },
      "outputs": [
        {
          "data": {
            "text/plain": [
              "<seaborn.axisgrid.FacetGrid at 0x23a8be34340>"
            ]
          },
          "execution_count": 49,
          "metadata": {},
          "output_type": "execute_result"
        },
        {
          "data": {
            "image/png": "[encoded data removed]",
            "text/plain": [
              "<Figure size 360x360 with 1 Axes>"
            ]
          },
          "metadata": {},
          "output_type": "display_data"
        }
      ],
      "source": [
        "sns.catplot(x='Salary',y='age',kind='box',data=df1)"
      ],
      "id": "54b6d838"
    },
    {
      "cell_type": "code",
      "execution_count": null,
      "metadata": {
        "id": "ec008362",
        "outputId": "d39f6dce-503b-4e2e-b100-7fb48412e8b5"
      },
      "outputs": [
        {
          "data": {
            "text/plain": [
              "<seaborn.axisgrid.FacetGrid at 0x23a8deb26d0>"
            ]
          },
          "execution_count": 50,
          "metadata": {},
          "output_type": "execute_result"
        },
        {
          "data": {
            "image/png": "[encoded data removed]",
            "text/plain": [
              "<Figure size 360x360 with 1 Axes>"
            ]
          },
          "metadata": {},
          "output_type": "display_data"
        }
      ],
      "source": [
        "sns.catplot(x='Salary',y='fnlwgt',kind='box',data=df1)"
      ],
      "id": "ec008362"
    },
    {
      "cell_type": "code",
      "execution_count": null,
      "metadata": {
        "id": "358dffde",
        "outputId": "de5a4db7-bb7c-42ba-b000-c0c8bdc333ac"
      },
      "outputs": [
        {
          "data": {
            "text/plain": [
              "<seaborn.axisgrid.FacetGrid at 0x23a8e7290d0>"
            ]
          },
          "execution_count": 51,
          "metadata": {},
          "output_type": "execute_result"
        },
        {
          "data": {
            "image/png": "[encoded data removed]",
            "text/plain": [
              "<Figure size 360x360 with 1 Axes>"
            ]
          },
          "metadata": {},
          "output_type": "display_data"
        }
      ],
      "source": [
        "sns.catplot(x='Salary',y='hours_per_week',kind='box',data=df1)"
      ],
      "id": "358dffde"
    },
    {
      "cell_type": "markdown",
      "metadata": {
        "id": "dc7027a2"
      },
      "source": [
        "##### Findings"
      ],
      "id": "dc7027a2"
    },
    {
      "cell_type": "raw",
      "metadata": {
        "id": "72dd278d"
      },
      "source": [
        "fnlwgt has no difference whether the income is above 50Kor below 50K\n",
        "age and hoursperweek variables have some variation in distribution wrt whether the income is above 50k or below 50k"
      ],
      "id": "72dd278d"
    },
    {
      "cell_type": "code",
      "execution_count": null,
      "metadata": {
        "id": "a2832bf7",
        "outputId": "0d745c94-1ef8-41a3-cf9c-7e3d2f46fe7a"
      },
      "outputs": [
        {
          "data": {
            "image/png": "[encoded data removed]",
            "text/plain": [
              "<Figure size 1440x288 with 1 Axes>"
            ]
          },
          "metadata": {},
          "output_type": "display_data"
        },
        {
          "data": {
            "image/png": "[encoded data removed]",
            "text/plain": [
              "<Figure size 1440x288 with 1 Axes>"
            ]
          },
          "metadata": {},
          "output_type": "display_data"
        },
        {
          "data": {
            "image/png": "[encoded data removed]",
            "text/plain": [
              "<Figure size 1440x288 with 1 Axes>"
            ]
          },
          "metadata": {},
          "output_type": "display_data"
        },
        {
          "data": {
            "image/png": "[encoded data removed]",
            "text/plain": [
              "<Figure size 1440x288 with 1 Axes>"
            ]
          },
          "metadata": {},
          "output_type": "display_data"
        },
        {
          "data": {
            "image/png": "[encoded data removed]",
            "text/plain": [
              "<Figure size 1440x288 with 1 Axes>"
            ]
          },
          "metadata": {},
          "output_type": "display_data"
        },
        {
          "data": {
            "image/png": "[encoded data removed]",
            "text/plain": [
              "<Figure size 1440x288 with 1 Axes>"
            ]
          },
          "metadata": {},
          "output_type": "display_data"
        },
        {
          "data": {
            "image/png": "[encoded data removed]",
            "text/plain": [
              "<Figure size 1440x288 with 1 Axes>"
            ]
          },
          "metadata": {},
          "output_type": "display_data"
        },
        {
          "data": {
            "image/png": "[encoded data removed]",
            "text/plain": [
              "<Figure size 1440x288 with 1 Axes>"
            ]
          },
          "metadata": {},
          "output_type": "display_data"
        },
        {
          "data": {
            "image/png": "[encoded data removed]",
            "text/plain": [
              "<Figure size 1440x288 with 1 Axes>"
            ]
          },
          "metadata": {},
          "output_type": "display_data"
        }
      ],
      "source": [
        "for column in categorical_data:\n",
        "    plt.figure(figsize=(20,4))\n",
        "    plt.subplot(121)\n",
        "    sns.countplot(x=categorical_data[column],hue=categorical_data['Salary'],data=categorical_data)\n",
        "    plt.title(column)\n",
        "    plt.xticks(rotation=90)"
      ],
      "id": "a2832bf7"
    },
    {
      "cell_type": "code",
      "execution_count": null,
      "metadata": {
        "id": "0af8b91c",
        "outputId": "e9c1694a-ac07-4121-a614-624bdea5537a"
      },
      "outputs": [
        {
          "data": {
            "text/html": [
              "<div>\n",
              "<style scoped>\n",
              "    .dataframe tbody tr th:only-of-type {\n",
              "        vertical-align: middle;\n",
              "    }\n",
              "\n",
              "    .dataframe tbody tr th {\n",
              "        vertical-align: top;\n",
              "    }\n",
              "\n",
              "    .dataframe thead th {\n",
              "        text-align: right;\n",
              "    }\n",
              "</style>\n",
              "<table border=\"1\" class=\"dataframe\">\n",
              "  <thead>\n",
              "    <tr style=\"text-align: right;\">\n",
              "      <th></th>\n",
              "      <th>age</th>\n",
              "      <th>fnlwgt</th>\n",
              "      <th>hours_per_week</th>\n",
              "    </tr>\n",
              "  </thead>\n",
              "  <tbody>\n",
              "    <tr>\n",
              "      <th>age</th>\n",
              "      <td>1.000000</td>\n",
              "      <td>-0.070365</td>\n",
              "      <td>0.050434</td>\n",
              "    </tr>\n",
              "    <tr>\n",
              "      <th>fnlwgt</th>\n",
              "      <td>-0.070365</td>\n",
              "      <td>1.000000</td>\n",
              "      <td>-0.018945</td>\n",
              "    </tr>\n",
              "    <tr>\n",
              "      <th>hours_per_week</th>\n",
              "      <td>0.050434</td>\n",
              "      <td>-0.018945</td>\n",
              "      <td>1.000000</td>\n",
              "    </tr>\n",
              "  </tbody>\n",
              "</table>\n",
              "</div>"
            ],
            "text/plain": [
              "                     age    fnlwgt  hours_per_week\n",
              "age             1.000000 -0.070365        0.050434\n",
              "fnlwgt         -0.070365  1.000000       -0.018945\n",
              "hours_per_week  0.050434 -0.018945        1.000000"
            ]
          },
          "execution_count": 53,
          "metadata": {},
          "output_type": "execute_result"
        }
      ],
      "source": [
        "df1.corr()"
      ],
      "id": "0af8b91c"
    },
    {
      "cell_type": "markdown",
      "metadata": {
        "id": "d46f389d"
      },
      "source": [
        "### 8.Feature Engineering"
      ],
      "id": "d46f389d"
    },
    {
      "cell_type": "code",
      "execution_count": null,
      "metadata": {
        "id": "e85bd85d"
      },
      "outputs": [],
      "source": [
        "# education Category\n",
        "df1.education= df1.education.replace(['Preschool', '1st-4th', '5th-6th', '7th-8th', '9th','10th', '11th', '12th'], 'school')\n",
        "df1.education = df1.education.replace('HS-grad', 'high school')\n",
        "df1.education = df1.education.replace(['Assoc-voc', 'Assoc-acdm', 'Prof-school', 'Some-college'], 'higher')\n",
        "df1.education = df1.education.replace('Bachelors', 'undergrad')\n",
        "df1.education = df1.education.replace('Masters', 'grad')\n",
        "df1.education = df1.education.replace('Doctorate', 'doc')"
      ],
      "id": "e85bd85d"
    },
    {
      "cell_type": "code",
      "execution_count": null,
      "metadata": {
        "id": "58a2b34d"
      },
      "outputs": [],
      "source": [
        "#salary\n",
        "df1.Salary = df1.Salary.replace('<=50K',0)\n",
        "df1.Salary = df1.Salary.replace('>50K',1)\n"
      ],
      "id": "58a2b34d"
    },
    {
      "cell_type": "code",
      "execution_count": null,
      "metadata": {
        "id": "39d69f5b",
        "outputId": "b31f999b-fda0-4d33-bf26-67bb70098f0d"
      },
      "outputs": [
        {
          "data": {
            "text/html": [
              "<div>\n",
              "<style scoped>\n",
              "    .dataframe tbody tr th:only-of-type {\n",
              "        vertical-align: middle;\n",
              "    }\n",
              "\n",
              "    .dataframe tbody tr th {\n",
              "        vertical-align: top;\n",
              "    }\n",
              "\n",
              "    .dataframe thead th {\n",
              "        text-align: right;\n",
              "    }\n",
              "</style>\n",
              "<table border=\"1\" class=\"dataframe\">\n",
              "  <thead>\n",
              "    <tr style=\"text-align: right;\">\n",
              "      <th></th>\n",
              "      <th>age</th>\n",
              "      <th>fnlwgt</th>\n",
              "      <th>hours_per_week</th>\n",
              "      <th>Salary</th>\n",
              "    </tr>\n",
              "  </thead>\n",
              "  <tbody>\n",
              "    <tr>\n",
              "      <th>age</th>\n",
              "      <td>1.000000</td>\n",
              "      <td>-0.070365</td>\n",
              "      <td>0.050434</td>\n",
              "      <td>0.226044</td>\n",
              "    </tr>\n",
              "    <tr>\n",
              "      <th>fnlwgt</th>\n",
              "      <td>-0.070365</td>\n",
              "      <td>1.000000</td>\n",
              "      <td>-0.018945</td>\n",
              "      <td>-0.001791</td>\n",
              "    </tr>\n",
              "    <tr>\n",
              "      <th>hours_per_week</th>\n",
              "      <td>0.050434</td>\n",
              "      <td>-0.018945</td>\n",
              "      <td>1.000000</td>\n",
              "      <td>0.176685</td>\n",
              "    </tr>\n",
              "    <tr>\n",
              "      <th>Salary</th>\n",
              "      <td>0.226044</td>\n",
              "      <td>-0.001791</td>\n",
              "      <td>0.176685</td>\n",
              "      <td>1.000000</td>\n",
              "    </tr>\n",
              "  </tbody>\n",
              "</table>\n",
              "</div>"
            ],
            "text/plain": [
              "                     age    fnlwgt  hours_per_week    Salary\n",
              "age             1.000000 -0.070365        0.050434  0.226044\n",
              "fnlwgt         -0.070365  1.000000       -0.018945 -0.001791\n",
              "hours_per_week  0.050434 -0.018945        1.000000  0.176685\n",
              "Salary          0.226044 -0.001791        0.176685  1.000000"
            ]
          },
          "execution_count": 56,
          "metadata": {},
          "output_type": "execute_result"
        }
      ],
      "source": [
        "df1.corr()"
      ],
      "id": "39d69f5b"
    },
    {
      "cell_type": "code",
      "execution_count": null,
      "metadata": {
        "id": "62f1a47d",
        "outputId": "07b54919-3385-4764-8991-d1e68cd8c79b"
      },
      "outputs": [
        {
          "data": {
            "text/plain": [
              "<AxesSubplot:>"
            ]
          },
          "execution_count": 57,
          "metadata": {},
          "output_type": "execute_result"
        },
        {
          "data": {
            "image/png": "[encoded data removed]",
            "text/plain": [
              "<Figure size 432x288 with 2 Axes>"
            ]
          },
          "metadata": {},
          "output_type": "display_data"
        }
      ],
      "source": [
        "sns.heatmap(df1.corr(),annot=True)"
      ],
      "id": "62f1a47d"
    },
    {
      "cell_type": "code",
      "execution_count": null,
      "metadata": {
        "id": "e288c57e",
        "outputId": "e41421da-c166-42cb-b112-02fbadd42dd1"
      },
      "outputs": [
        {
          "data": {
            "text/plain": [
              "0    23553\n",
              "1     6059\n",
              "Name: Salary, dtype: int64"
            ]
          },
          "execution_count": 58,
          "metadata": {},
          "output_type": "execute_result"
        }
      ],
      "source": [
        "df1['Salary'].value_counts()"
      ],
      "id": "e288c57e"
    },
    {
      "cell_type": "code",
      "execution_count": null,
      "metadata": {
        "id": "b00a2b3d",
        "outputId": "00502cca-4d71-4a00-c7f7-5095553940a0"
      },
      "outputs": [
        {
          "name": "stdout",
          "output_type": "stream",
          "text": [
            "<class 'pandas.core.frame.DataFrame'>\n",
            "Int64Index: 29612 entries, 0 to 48839\n",
            "Data columns (total 12 columns):\n",
            " #   Column          Non-Null Count  Dtype \n",
            "---  ------          --------------  ----- \n",
            " 0   age             29612 non-null  int64 \n",
            " 1   workclass       29612 non-null  object\n",
            " 2   fnlwgt          29612 non-null  int64 \n",
            " 3   education       29612 non-null  object\n",
            " 4   marital-status  29612 non-null  object\n",
            " 5   occupation      29612 non-null  object\n",
            " 6   relationship    29612 non-null  object\n",
            " 7   race            29612 non-null  object\n",
            " 8   gender          29612 non-null  object\n",
            " 9   hours_per_week  29612 non-null  int64 \n",
            " 10  native_country  29612 non-null  object\n",
            " 11  Salary          29612 non-null  int64 \n",
            "dtypes: int64(4), object(8)\n",
            "memory usage: 3.9+ MB\n"
          ]
        }
      ],
      "source": [
        "df1.info()"
      ],
      "id": "b00a2b3d"
    },
    {
      "cell_type": "code",
      "execution_count": null,
      "metadata": {
        "id": "39b2c575"
      },
      "outputs": [],
      "source": [
        "#convert work class columns datatype to category datatype\n",
        "df1['workclass'] = df1['workclass'].astype('category')"
      ],
      "id": "39b2c575"
    },
    {
      "cell_type": "code",
      "execution_count": null,
      "metadata": {
        "id": "e34643f3"
      },
      "outputs": [],
      "source": [
        "#droping fnlwgt column bcz it doesnt convey individual related meaning"
      ],
      "id": "e34643f3"
    },
    {
      "cell_type": "code",
      "execution_count": null,
      "metadata": {
        "id": "86025191"
      },
      "outputs": [],
      "source": [
        "df1.drop(['fnlwgt'],axis=1,inplace=True)"
      ],
      "id": "86025191"
    },
    {
      "cell_type": "markdown",
      "metadata": {
        "id": "7c4da66f"
      },
      "source": [
        "### 9. Encoding"
      ],
      "id": "7c4da66f"
    },
    {
      "cell_type": "code",
      "execution_count": null,
      "metadata": {
        "id": "3f5f2a08",
        "outputId": "f29d9d90-bc00-494f-c62a-a07a09374718"
      },
      "outputs": [
        {
          "data": {
            "text/plain": [
              "Index(['age', 'workclass', 'education', 'marital-status', 'occupation',\n",
              "       'relationship', 'race', 'gender', 'hours_per_week', 'native_country',\n",
              "       'Salary'],\n",
              "      dtype='object')"
            ]
          },
          "execution_count": 63,
          "metadata": {},
          "output_type": "execute_result"
        }
      ],
      "source": [
        "df1.columns"
      ],
      "id": "3f5f2a08"
    },
    {
      "cell_type": "code",
      "execution_count": null,
      "metadata": {
        "id": "1e827e3e",
        "outputId": "94796fa3-8109-406a-a524-ca3da99b9825"
      },
      "outputs": [
        {
          "name": "stdout",
          "output_type": "stream",
          "text": [
            "Unique values in age feature.\n",
            "[25 38 28 29 24 36 26 58 43 40 34 54 56 23 65 22 17 20 44 39 21 63 33 30\n",
            " 47 41 46 50 45 31 59 49 18 48 42 57 32 19 27 51 52 53 77 55 35 61 64 37\n",
            " 68 62 73 66 60 67 71 74 78 69 70 75 72 76] \n",
            "\n",
            "****************************************\n",
            "Unique values in workclass feature.\n",
            "['Private', 'Local-gov', 'Federal-gov', 'Self-emp-not-inc', 'Self-emp-inc', 'State-gov', 'Without-pay', 'Never-worked']\n",
            "Categories (8, object): ['Federal-gov', 'Local-gov', 'Never-worked', 'Private', 'Self-emp-inc', 'Self-emp-not-inc', 'State-gov', 'Without-pay'] \n",
            "\n",
            "****************************************\n",
            "Unique values in education feature.\n",
            "['school' 'high school' 'higher' 'undergrad' 'grad' 'doc'] \n",
            "\n",
            "****************************************\n",
            "Unique values in marital-status feature.\n",
            "['not married' 'married' 'divorced'] \n",
            "\n",
            "****************************************\n",
            "Unique values in occupation feature.\n",
            "['Machine-op-inspct' 'Farming-fishing' 'Protective-serv' 'Prof-specialty'\n",
            " 'Other-service' 'Adm-clerical' 'Exec-managerial' 'Tech-support'\n",
            " 'Craft-repair' 'Sales' 'Priv-house-serv' 'Handlers-cleaners'\n",
            " 'Transport-moving' 'Armed-Forces'] \n",
            "\n",
            "****************************************\n",
            "Unique values in relationship feature.\n",
            "['Own-child' 'Husband' 'Unmarried' 'Not-in-family' 'Wife' 'Other-relative'] \n",
            "\n",
            "****************************************\n",
            "Unique values in race feature.\n",
            "['Black' 'White' 'Asian-Pac-Islander' 'Other' 'Amer-Indian-Eskimo'] \n",
            "\n",
            "****************************************\n",
            "Unique values in gender feature.\n",
            "['Male' 'Female'] \n",
            "\n",
            "****************************************\n",
            "Unique values in hours_per_week feature.\n",
            "[40 50 39 35 45 47 43 36 48 44 41 33 37 38 52 42 46 49 34 51] \n",
            "\n",
            "****************************************\n",
            "Unique values in native_country feature.\n",
            "['United-States' 'Peru' 'Guatemala' 'Mexico' 'Dominican-Republic'\n",
            " 'Philippines' 'Thailand' 'Puerto-Rico' 'Germany' 'South' 'Columbia'\n",
            " 'Japan' 'India' 'Cambodia' 'Poland' 'Laos' 'England' 'Cuba' 'Haiti'\n",
            " 'Taiwan' 'Italy' 'China' 'Nicaragua' 'El-Salvador' 'Canada' 'Ireland'\n",
            " 'Scotland' 'Jamaica' 'Portugal' 'Honduras' 'Ecuador' 'Vietnam' 'Greece'\n",
            " 'Iran' 'Hungary' 'Trinadad&Tobago' 'Outlying-US(Guam-USVI-etc)' 'Hong'\n",
            " 'Yugoslavia' 'France'] \n",
            "\n",
            "****************************************\n",
            "Unique values in Salary feature.\n",
            "[0 1] \n",
            "\n",
            "****************************************\n"
          ]
        }
      ],
      "source": [
        "unique_checker(df1)"
      ],
      "id": "1e827e3e"
    },
    {
      "cell_type": "markdown",
      "metadata": {
        "id": "d1ae7859"
      },
      "source": [
        "## One Hot Encoding"
      ],
      "id": "d1ae7859"
    },
    {
      "cell_type": "code",
      "execution_count": null,
      "metadata": {
        "id": "67316f94",
        "outputId": "fa12f130-fdff-40b8-e363-5cb434bbc0a0"
      },
      "outputs": [
        {
          "data": {
            "text/html": [
              "<div>\n",
              "<style scoped>\n",
              "    .dataframe tbody tr th:only-of-type {\n",
              "        vertical-align: middle;\n",
              "    }\n",
              "\n",
              "    .dataframe tbody tr th {\n",
              "        vertical-align: top;\n",
              "    }\n",
              "\n",
              "    .dataframe thead th {\n",
              "        text-align: right;\n",
              "    }\n",
              "</style>\n",
              "<table border=\"1\" class=\"dataframe\">\n",
              "  <thead>\n",
              "    <tr style=\"text-align: right;\">\n",
              "      <th></th>\n",
              "      <th>age</th>\n",
              "      <th>workclass</th>\n",
              "      <th>education</th>\n",
              "      <th>occupation</th>\n",
              "      <th>relationship</th>\n",
              "      <th>race</th>\n",
              "      <th>hours_per_week</th>\n",
              "      <th>native_country</th>\n",
              "      <th>Salary</th>\n",
              "      <th>marital-status_divorced</th>\n",
              "      <th>marital-status_married</th>\n",
              "      <th>marital-status_not married</th>\n",
              "      <th>gender_Female</th>\n",
              "      <th>gender_Male</th>\n",
              "    </tr>\n",
              "  </thead>\n",
              "  <tbody>\n",
              "    <tr>\n",
              "      <th>0</th>\n",
              "      <td>25</td>\n",
              "      <td>Private</td>\n",
              "      <td>school</td>\n",
              "      <td>Machine-op-inspct</td>\n",
              "      <td>Own-child</td>\n",
              "      <td>Black</td>\n",
              "      <td>40</td>\n",
              "      <td>United-States</td>\n",
              "      <td>0</td>\n",
              "      <td>0</td>\n",
              "      <td>0</td>\n",
              "      <td>1</td>\n",
              "      <td>0</td>\n",
              "      <td>1</td>\n",
              "    </tr>\n",
              "    <tr>\n",
              "      <th>1</th>\n",
              "      <td>38</td>\n",
              "      <td>Private</td>\n",
              "      <td>high school</td>\n",
              "      <td>Farming-fishing</td>\n",
              "      <td>Husband</td>\n",
              "      <td>White</td>\n",
              "      <td>50</td>\n",
              "      <td>United-States</td>\n",
              "      <td>0</td>\n",
              "      <td>0</td>\n",
              "      <td>1</td>\n",
              "      <td>0</td>\n",
              "      <td>0</td>\n",
              "      <td>1</td>\n",
              "    </tr>\n",
              "    <tr>\n",
              "      <th>2</th>\n",
              "      <td>28</td>\n",
              "      <td>Local-gov</td>\n",
              "      <td>higher</td>\n",
              "      <td>Protective-serv</td>\n",
              "      <td>Husband</td>\n",
              "      <td>White</td>\n",
              "      <td>40</td>\n",
              "      <td>United-States</td>\n",
              "      <td>1</td>\n",
              "      <td>0</td>\n",
              "      <td>1</td>\n",
              "      <td>0</td>\n",
              "      <td>0</td>\n",
              "      <td>1</td>\n",
              "    </tr>\n",
              "    <tr>\n",
              "      <th>6</th>\n",
              "      <td>29</td>\n",
              "      <td>Private</td>\n",
              "      <td>high school</td>\n",
              "      <td>Prof-specialty</td>\n",
              "      <td>Unmarried</td>\n",
              "      <td>Black</td>\n",
              "      <td>40</td>\n",
              "      <td>United-States</td>\n",
              "      <td>0</td>\n",
              "      <td>0</td>\n",
              "      <td>0</td>\n",
              "      <td>1</td>\n",
              "      <td>0</td>\n",
              "      <td>1</td>\n",
              "    </tr>\n",
              "    <tr>\n",
              "      <th>8</th>\n",
              "      <td>24</td>\n",
              "      <td>Private</td>\n",
              "      <td>higher</td>\n",
              "      <td>Other-service</td>\n",
              "      <td>Unmarried</td>\n",
              "      <td>White</td>\n",
              "      <td>40</td>\n",
              "      <td>United-States</td>\n",
              "      <td>0</td>\n",
              "      <td>0</td>\n",
              "      <td>0</td>\n",
              "      <td>1</td>\n",
              "      <td>1</td>\n",
              "      <td>0</td>\n",
              "    </tr>\n",
              "  </tbody>\n",
              "</table>\n",
              "</div>"
            ],
            "text/plain": [
              "   age  workclass    education         occupation relationship   race  \\\n",
              "0   25    Private       school  Machine-op-inspct    Own-child  Black   \n",
              "1   38    Private  high school    Farming-fishing      Husband  White   \n",
              "2   28  Local-gov       higher    Protective-serv      Husband  White   \n",
              "6   29    Private  high school     Prof-specialty    Unmarried  Black   \n",
              "8   24    Private       higher      Other-service    Unmarried  White   \n",
              "\n",
              "   hours_per_week native_country  Salary  marital-status_divorced  \\\n",
              "0              40  United-States       0                        0   \n",
              "1              50  United-States       0                        0   \n",
              "2              40  United-States       1                        0   \n",
              "6              40  United-States       0                        0   \n",
              "8              40  United-States       0                        0   \n",
              "\n",
              "   marital-status_married  marital-status_not married  gender_Female  \\\n",
              "0                       0                           1              0   \n",
              "1                       1                           0              0   \n",
              "2                       1                           0              0   \n",
              "6                       0                           1              0   \n",
              "8                       0                           1              1   \n",
              "\n",
              "   gender_Male  \n",
              "0            1  \n",
              "1            1  \n",
              "2            1  \n",
              "6            1  \n",
              "8            0  "
            ]
          },
          "execution_count": 65,
          "metadata": {},
          "output_type": "execute_result"
        }
      ],
      "source": [
        "one_hot_features = ['marital-status','gender']\n",
        "df1 = pd.get_dummies(df1,columns=one_hot_features)\n",
        "df1.head()"
      ],
      "id": "67316f94"
    },
    {
      "cell_type": "markdown",
      "metadata": {
        "id": "12cb4e2d"
      },
      "source": [
        "### Label Encoding"
      ],
      "id": "12cb4e2d"
    },
    {
      "cell_type": "code",
      "execution_count": null,
      "metadata": {
        "id": "d4d4ac29"
      },
      "outputs": [],
      "source": [
        "from sklearn import preprocessing\n",
        "le = preprocessing.LabelEncoder()\n",
        "#convert categorical column into numeric\n",
        "df1['workclass'] = le.fit_transform(df1['workclass'])\n",
        "df1['education'] = le.fit_transform(df1['education'])\n",
        "df1['occupation'] = le.fit_transform(df1['occupation'])\n",
        "df1['relationship'] = le.fit_transform(df1['relationship'])\n",
        "df1['race'] = le.fit_transform(df1['race'])\n",
        "df1['native_country'] = le.fit_transform(df1['native_country'])"
      ],
      "id": "d4d4ac29"
    },
    {
      "cell_type": "code",
      "execution_count": null,
      "metadata": {
        "id": "79ae914e",
        "outputId": "9d1482d8-e45a-45af-82ef-2c0fb7100ce2"
      },
      "outputs": [
        {
          "data": {
            "text/html": [
              "<div>\n",
              "<style scoped>\n",
              "    .dataframe tbody tr th:only-of-type {\n",
              "        vertical-align: middle;\n",
              "    }\n",
              "\n",
              "    .dataframe tbody tr th {\n",
              "        vertical-align: top;\n",
              "    }\n",
              "\n",
              "    .dataframe thead th {\n",
              "        text-align: right;\n",
              "    }\n",
              "</style>\n",
              "<table border=\"1\" class=\"dataframe\">\n",
              "  <thead>\n",
              "    <tr style=\"text-align: right;\">\n",
              "      <th></th>\n",
              "      <th>age</th>\n",
              "      <th>workclass</th>\n",
              "      <th>education</th>\n",
              "      <th>occupation</th>\n",
              "      <th>relationship</th>\n",
              "      <th>race</th>\n",
              "      <th>hours_per_week</th>\n",
              "      <th>native_country</th>\n",
              "      <th>Salary</th>\n",
              "      <th>marital-status_divorced</th>\n",
              "      <th>marital-status_married</th>\n",
              "      <th>marital-status_not married</th>\n",
              "      <th>gender_Female</th>\n",
              "      <th>gender_Male</th>\n",
              "    </tr>\n",
              "  </thead>\n",
              "  <tbody>\n",
              "    <tr>\n",
              "      <th>0</th>\n",
              "      <td>25</td>\n",
              "      <td>3</td>\n",
              "      <td>4</td>\n",
              "      <td>6</td>\n",
              "      <td>3</td>\n",
              "      <td>2</td>\n",
              "      <td>40</td>\n",
              "      <td>37</td>\n",
              "      <td>0</td>\n",
              "      <td>0</td>\n",
              "      <td>0</td>\n",
              "      <td>1</td>\n",
              "      <td>0</td>\n",
              "      <td>1</td>\n",
              "    </tr>\n",
              "    <tr>\n",
              "      <th>1</th>\n",
              "      <td>38</td>\n",
              "      <td>3</td>\n",
              "      <td>2</td>\n",
              "      <td>4</td>\n",
              "      <td>0</td>\n",
              "      <td>4</td>\n",
              "      <td>50</td>\n",
              "      <td>37</td>\n",
              "      <td>0</td>\n",
              "      <td>0</td>\n",
              "      <td>1</td>\n",
              "      <td>0</td>\n",
              "      <td>0</td>\n",
              "      <td>1</td>\n",
              "    </tr>\n",
              "    <tr>\n",
              "      <th>2</th>\n",
              "      <td>28</td>\n",
              "      <td>1</td>\n",
              "      <td>3</td>\n",
              "      <td>10</td>\n",
              "      <td>0</td>\n",
              "      <td>4</td>\n",
              "      <td>40</td>\n",
              "      <td>37</td>\n",
              "      <td>1</td>\n",
              "      <td>0</td>\n",
              "      <td>1</td>\n",
              "      <td>0</td>\n",
              "      <td>0</td>\n",
              "      <td>1</td>\n",
              "    </tr>\n",
              "    <tr>\n",
              "      <th>6</th>\n",
              "      <td>29</td>\n",
              "      <td>3</td>\n",
              "      <td>2</td>\n",
              "      <td>9</td>\n",
              "      <td>4</td>\n",
              "      <td>2</td>\n",
              "      <td>40</td>\n",
              "      <td>37</td>\n",
              "      <td>0</td>\n",
              "      <td>0</td>\n",
              "      <td>0</td>\n",
              "      <td>1</td>\n",
              "      <td>0</td>\n",
              "      <td>1</td>\n",
              "    </tr>\n",
              "    <tr>\n",
              "      <th>8</th>\n",
              "      <td>24</td>\n",
              "      <td>3</td>\n",
              "      <td>3</td>\n",
              "      <td>7</td>\n",
              "      <td>4</td>\n",
              "      <td>4</td>\n",
              "      <td>40</td>\n",
              "      <td>37</td>\n",
              "      <td>0</td>\n",
              "      <td>0</td>\n",
              "      <td>0</td>\n",
              "      <td>1</td>\n",
              "      <td>1</td>\n",
              "      <td>0</td>\n",
              "    </tr>\n",
              "  </tbody>\n",
              "</table>\n",
              "</div>"
            ],
            "text/plain": [
              "   age  workclass  education  occupation  relationship  race  hours_per_week  \\\n",
              "0   25          3          4           6             3     2              40   \n",
              "1   38          3          2           4             0     4              50   \n",
              "2   28          1          3          10             0     4              40   \n",
              "6   29          3          2           9             4     2              40   \n",
              "8   24          3          3           7             4     4              40   \n",
              "\n",
              "   native_country  Salary  marital-status_divorced  marital-status_married  \\\n",
              "0              37       0                        0                       0   \n",
              "1              37       0                        0                       1   \n",
              "2              37       1                        0                       1   \n",
              "6              37       0                        0                       0   \n",
              "8              37       0                        0                       0   \n",
              "\n",
              "   marital-status_not married  gender_Female  gender_Male  \n",
              "0                           1              0            1  \n",
              "1                           0              0            1  \n",
              "2                           0              0            1  \n",
              "6                           1              0            1  \n",
              "8                           1              1            0  "
            ]
          },
          "execution_count": 67,
          "metadata": {},
          "output_type": "execute_result"
        }
      ],
      "source": [
        "df1.head()"
      ],
      "id": "79ae914e"
    },
    {
      "cell_type": "markdown",
      "metadata": {
        "id": "dd56bb9c"
      },
      "source": [
        "### 9.Model Development & classification"
      ],
      "id": "dd56bb9c"
    },
    {
      "cell_type": "code",
      "execution_count": null,
      "metadata": {
        "id": "281d86cd"
      },
      "outputs": [],
      "source": [
        "#moved the salary column to another variable"
      ],
      "id": "281d86cd"
    },
    {
      "cell_type": "code",
      "execution_count": null,
      "metadata": {
        "id": "818ce436",
        "outputId": "6e4bff73-b32c-48f4-9aef-23111191e25f"
      },
      "outputs": [
        {
          "data": {
            "text/html": [
              "<div>\n",
              "<style scoped>\n",
              "    .dataframe tbody tr th:only-of-type {\n",
              "        vertical-align: middle;\n",
              "    }\n",
              "\n",
              "    .dataframe tbody tr th {\n",
              "        vertical-align: top;\n",
              "    }\n",
              "\n",
              "    .dataframe thead th {\n",
              "        text-align: right;\n",
              "    }\n",
              "</style>\n",
              "<table border=\"1\" class=\"dataframe\">\n",
              "  <thead>\n",
              "    <tr style=\"text-align: right;\">\n",
              "      <th></th>\n",
              "      <th>age</th>\n",
              "      <th>workclass</th>\n",
              "      <th>education</th>\n",
              "      <th>occupation</th>\n",
              "      <th>relationship</th>\n",
              "      <th>race</th>\n",
              "      <th>hours_per_week</th>\n",
              "      <th>native_country</th>\n",
              "      <th>marital-status_divorced</th>\n",
              "      <th>marital-status_married</th>\n",
              "      <th>marital-status_not married</th>\n",
              "      <th>gender_Female</th>\n",
              "      <th>gender_Male</th>\n",
              "    </tr>\n",
              "  </thead>\n",
              "  <tbody>\n",
              "    <tr>\n",
              "      <th>0</th>\n",
              "      <td>25</td>\n",
              "      <td>3</td>\n",
              "      <td>4</td>\n",
              "      <td>6</td>\n",
              "      <td>3</td>\n",
              "      <td>2</td>\n",
              "      <td>40</td>\n",
              "      <td>37</td>\n",
              "      <td>0</td>\n",
              "      <td>0</td>\n",
              "      <td>1</td>\n",
              "      <td>0</td>\n",
              "      <td>1</td>\n",
              "    </tr>\n",
              "    <tr>\n",
              "      <th>1</th>\n",
              "      <td>38</td>\n",
              "      <td>3</td>\n",
              "      <td>2</td>\n",
              "      <td>4</td>\n",
              "      <td>0</td>\n",
              "      <td>4</td>\n",
              "      <td>50</td>\n",
              "      <td>37</td>\n",
              "      <td>0</td>\n",
              "      <td>1</td>\n",
              "      <td>0</td>\n",
              "      <td>0</td>\n",
              "      <td>1</td>\n",
              "    </tr>\n",
              "    <tr>\n",
              "      <th>2</th>\n",
              "      <td>28</td>\n",
              "      <td>1</td>\n",
              "      <td>3</td>\n",
              "      <td>10</td>\n",
              "      <td>0</td>\n",
              "      <td>4</td>\n",
              "      <td>40</td>\n",
              "      <td>37</td>\n",
              "      <td>0</td>\n",
              "      <td>1</td>\n",
              "      <td>0</td>\n",
              "      <td>0</td>\n",
              "      <td>1</td>\n",
              "    </tr>\n",
              "    <tr>\n",
              "      <th>6</th>\n",
              "      <td>29</td>\n",
              "      <td>3</td>\n",
              "      <td>2</td>\n",
              "      <td>9</td>\n",
              "      <td>4</td>\n",
              "      <td>2</td>\n",
              "      <td>40</td>\n",
              "      <td>37</td>\n",
              "      <td>0</td>\n",
              "      <td>0</td>\n",
              "      <td>1</td>\n",
              "      <td>0</td>\n",
              "      <td>1</td>\n",
              "    </tr>\n",
              "    <tr>\n",
              "      <th>8</th>\n",
              "      <td>24</td>\n",
              "      <td>3</td>\n",
              "      <td>3</td>\n",
              "      <td>7</td>\n",
              "      <td>4</td>\n",
              "      <td>4</td>\n",
              "      <td>40</td>\n",
              "      <td>37</td>\n",
              "      <td>0</td>\n",
              "      <td>0</td>\n",
              "      <td>1</td>\n",
              "      <td>1</td>\n",
              "      <td>0</td>\n",
              "    </tr>\n",
              "  </tbody>\n",
              "</table>\n",
              "</div>"
            ],
            "text/plain": [
              "   age  workclass  education  occupation  relationship  race  hours_per_week  \\\n",
              "0   25          3          4           6             3     2              40   \n",
              "1   38          3          2           4             0     4              50   \n",
              "2   28          1          3          10             0     4              40   \n",
              "6   29          3          2           9             4     2              40   \n",
              "8   24          3          3           7             4     4              40   \n",
              "\n",
              "   native_country  marital-status_divorced  marital-status_married  \\\n",
              "0              37                        0                       0   \n",
              "1              37                        0                       1   \n",
              "2              37                        0                       1   \n",
              "6              37                        0                       0   \n",
              "8              37                        0                       0   \n",
              "\n",
              "   marital-status_not married  gender_Female  gender_Male  \n",
              "0                           1              0            1  \n",
              "1                           0              0            1  \n",
              "2                           0              0            1  \n",
              "6                           1              0            1  \n",
              "8                           1              1            0  "
            ]
          },
          "execution_count": 69,
          "metadata": {},
          "output_type": "execute_result"
        }
      ],
      "source": [
        "target_salary = df1.pop('Salary')\n",
        "df1.head()"
      ],
      "id": "818ce436"
    },
    {
      "cell_type": "markdown",
      "metadata": {
        "id": "0b4d0756"
      },
      "source": [
        "# Logistic Regression Model"
      ],
      "id": "0b4d0756"
    },
    {
      "cell_type": "code",
      "execution_count": null,
      "metadata": {
        "id": "3d28fb63"
      },
      "outputs": [],
      "source": [
        "from sklearn.model_selection import train_test_split\n",
        "from sklearn.metrics import classification_report\n",
        "from sklearn.linear_model import LogisticRegression\n",
        "from sklearn.preprocessing import StandardScaler"
      ],
      "id": "3d28fb63"
    },
    {
      "cell_type": "code",
      "execution_count": null,
      "metadata": {
        "id": "d546e381"
      },
      "outputs": [],
      "source": [
        "#since this is a binary classification we will use log Regression"
      ],
      "id": "d546e381"
    },
    {
      "cell_type": "code",
      "execution_count": null,
      "metadata": {
        "id": "a53eb702"
      },
      "outputs": [],
      "source": [
        "#normalizing data\n",
        "scaler = StandardScaler()\n",
        "df2 = scaler.fit_transform(df1.values)"
      ],
      "id": "a53eb702"
    },
    {
      "cell_type": "code",
      "execution_count": null,
      "metadata": {
        "id": "28b61b8b",
        "outputId": "23d075ff-e667-40bd-ad97-700add99ee6a"
      },
      "outputs": [
        {
          "data": {
            "text/plain": [
              "LogisticRegression()"
            ]
          },
          "execution_count": 75,
          "metadata": {},
          "output_type": "execute_result"
        }
      ],
      "source": [
        "# random state : Controls the shuffling applied to the data before applying the split.\n",
        "X_train,X_test,y_train,y_test = train_test_split(df2,target_salary,test_size=0.2,random_state=42)\n",
        "\n",
        "clf = LogisticRegression().fit(X_train,y_train)\n",
        "clf"
      ],
      "id": "28b61b8b"
    },
    {
      "cell_type": "code",
      "execution_count": null,
      "metadata": {
        "id": "d6743c97",
        "outputId": "24fdf00b-f139-492e-9d61-72d652cabf76"
      },
      "outputs": [
        {
          "data": {
            "text/plain": [
              "0.8028026338004389"
            ]
          },
          "execution_count": 76,
          "metadata": {},
          "output_type": "execute_result"
        }
      ],
      "source": [
        "clf.score(X_test,y_test)"
      ],
      "id": "d6743c97"
    },
    {
      "cell_type": "code",
      "execution_count": null,
      "metadata": {
        "id": "78120c3a",
        "outputId": "b9cd293f-02cc-4643-b171-6d2f6756c9a8"
      },
      "outputs": [
        {
          "name": "stdout",
          "output_type": "stream",
          "text": [
            "              precision    recall  f1-score   support\n",
            "\n",
            "           0       0.83      0.95      0.89      4743\n",
            "           1       0.51      0.19      0.28      1180\n",
            "\n",
            "    accuracy                           0.80      5923\n",
            "   macro avg       0.67      0.57      0.58      5923\n",
            "weighted avg       0.76      0.80      0.77      5923\n",
            "\n"
          ]
        }
      ],
      "source": [
        "print(classification_report(y_test,clf.predict(X_test)))"
      ],
      "id": "78120c3a"
    },
    {
      "cell_type": "code",
      "execution_count": null,
      "metadata": {
        "id": "293d0f1c",
        "outputId": "700eda24-ce5b-4aed-b3c4-b37ce6f09538"
      },
      "outputs": [
        {
          "name": "stdout",
          "output_type": "stream",
          "text": [
            "Accuracy for Logistic Regression is  0.8028\n",
            "Precision for Logistic Regression is  0.6699\n",
            "Recall for Logistic Regression is  0.5745\n",
            "F1-score for Logistic Regression is  0.5841\n"
          ]
        }
      ],
      "source": [
        "from sklearn.metrics import confusion_matrix,accuracy_score,precision_score,recall_score,f1_score\n",
        "print('Accuracy for Logistic Regression is ',round(accuracy_score(y_test,clf.predict(X_test)),4))\n",
        "print('Precision for Logistic Regression is ',round(precision_score(y_test,clf.predict(X_test),average='macro'),4))\n",
        "print('Recall for Logistic Regression is ',round(recall_score(y_test,clf.predict(X_test),average='macro'),4))\n",
        "print('F1-score for Logistic Regression is ',round(f1_score(y_test,clf.predict(X_test),average='macro'),4))"
      ],
      "id": "293d0f1c"
    },
    {
      "cell_type": "code",
      "execution_count": null,
      "metadata": {
        "id": "6dec3f49"
      },
      "outputs": [],
      "source": [
        "y_pred1 = clf.predict(X_test)"
      ],
      "id": "6dec3f49"
    },
    {
      "cell_type": "code",
      "execution_count": null,
      "metadata": {
        "id": "596378c1"
      },
      "outputs": [],
      "source": [
        "from sklearn.metrics import confusion_matrix"
      ],
      "id": "596378c1"
    },
    {
      "cell_type": "code",
      "execution_count": null,
      "metadata": {
        "id": "3ee6a74b",
        "outputId": "49ef2c88-f0ac-4cf7-ed95-82662b1573fe"
      },
      "outputs": [
        {
          "data": {
            "text/plain": [
              "Text(33.0, 0.5, 'Actual labels')"
            ]
          },
          "execution_count": 87,
          "metadata": {},
          "output_type": "execute_result"
        },
        {
          "data": {
            "image/png": "[encoded data removed]",
            "text/plain": [
              "<Figure size 432x288 with 2 Axes>"
            ]
          },
          "metadata": {},
          "output_type": "display_data"
        }
      ],
      "source": [
        "sns.heatmap(confusion_matrix(y_test,y_pred1),annot=True,fmt='g')\n",
        "plt.xlabel('Predicted labels')\n",
        "plt.ylabel('Actual labels')"
      ],
      "id": "3ee6a74b"
    },
    {
      "cell_type": "markdown",
      "metadata": {
        "id": "a1aeb5a7"
      },
      "source": [
        "## Support Vector Classifier"
      ],
      "id": "a1aeb5a7"
    },
    {
      "cell_type": "code",
      "execution_count": null,
      "metadata": {
        "id": "ff0b893d"
      },
      "outputs": [],
      "source": [
        "from sklearn.svm import SVC\n",
        "svc = SVC(kernel = 'linear')\n",
        "svc.fit(X_train,y_train)\n",
        "y_pred = svc.predict(X_test)"
      ],
      "id": "ff0b893d"
    },
    {
      "cell_type": "code",
      "execution_count": null,
      "metadata": {
        "id": "5853dc0a",
        "outputId": "51449fcb-24d9-4503-8d86-83d71d3d0f81"
      },
      "outputs": [
        {
          "data": {
            "text/plain": [
              "0.7940394275824222"
            ]
          },
          "execution_count": 142,
          "metadata": {},
          "output_type": "execute_result"
        }
      ],
      "source": [
        "svc.score(X_train,y_train)"
      ],
      "id": "5853dc0a"
    },
    {
      "cell_type": "code",
      "execution_count": null,
      "metadata": {
        "id": "b7b83259",
        "outputId": "9ed32eb9-12ba-4e4a-d8b9-55f20e8bf5e4"
      },
      "outputs": [
        {
          "name": "stdout",
          "output_type": "stream",
          "text": [
            "Accuracy is : 0.8007766334627723\n"
          ]
        },
        {
          "data": {
            "text/plain": [
              "0.6412432166999712"
            ]
          },
          "execution_count": 143,
          "metadata": {},
          "output_type": "execute_result"
        }
      ],
      "source": [
        "print('Accuracy is :',accuracy_score(y_test,y_pred))\n",
        "precision_score(y_test,y_pred,average='weighted')"
      ],
      "id": "b7b83259"
    },
    {
      "cell_type": "code",
      "execution_count": null,
      "metadata": {
        "id": "8b400ca7",
        "outputId": "18a3f4f7-025a-4fcc-ec4c-ec931171b3a4"
      },
      "outputs": [
        {
          "data": {
            "text/plain": [
              "0.7121851814202005"
            ]
          },
          "execution_count": 144,
          "metadata": {},
          "output_type": "execute_result"
        }
      ],
      "source": [
        "f1_score(y_test,y_pred,average='weighted')"
      ],
      "id": "8b400ca7"
    },
    {
      "cell_type": "code",
      "execution_count": null,
      "metadata": {
        "id": "2897ff41",
        "outputId": "338bef3a-403c-4db7-d3cf-42b364e6f730"
      },
      "outputs": [
        {
          "data": {
            "text/plain": [
              "0.8007766334627723"
            ]
          },
          "execution_count": 145,
          "metadata": {},
          "output_type": "execute_result"
        }
      ],
      "source": [
        "recall_score(y_test,y_pred,average='weighted')"
      ],
      "id": "2897ff41"
    },
    {
      "cell_type": "code",
      "execution_count": null,
      "metadata": {
        "id": "972469f1",
        "outputId": "a3ac9cc4-a115-47e8-ba0d-9eacc853fa4d"
      },
      "outputs": [
        {
          "name": "stdout",
          "output_type": "stream",
          "text": [
            "[[4743    0]\n",
            " [1180    0]]\n"
          ]
        }
      ],
      "source": [
        "print(confusion_matrix(y_test,y_pred))"
      ],
      "id": "972469f1"
    },
    {
      "cell_type": "markdown",
      "metadata": {
        "id": "0b4e6889"
      },
      "source": [
        "## Decision Tree Classifier"
      ],
      "id": "0b4e6889"
    },
    {
      "cell_type": "code",
      "execution_count": null,
      "metadata": {
        "id": "665bdf89"
      },
      "outputs": [],
      "source": [
        "from sklearn.tree import DecisionTreeClassifier\n",
        "dt_model = DecisionTreeClassifier()\n",
        "dt_model.fit(X_train,y_train)\n",
        "y_pred = dt_model.predict(X_test)"
      ],
      "id": "665bdf89"
    },
    {
      "cell_type": "code",
      "execution_count": null,
      "metadata": {
        "id": "3fa43897",
        "outputId": "c2d787b0-df95-4d40-a1bd-9241e30f0bc7"
      },
      "outputs": [
        {
          "name": "stdout",
          "output_type": "stream",
          "text": [
            "Accuracy on training data is :  0.9549157836970746\n"
          ]
        }
      ],
      "source": [
        "print('Accuracy on training data is : ',dt_model.score(X_train,y_train))"
      ],
      "id": "3fa43897"
    },
    {
      "cell_type": "code",
      "execution_count": null,
      "metadata": {
        "id": "a97b80f5",
        "outputId": "c537db31-afe1-420b-ae70-9365302c48a6"
      },
      "outputs": [
        {
          "name": "stdout",
          "output_type": "stream",
          "text": [
            "Accuracy is : 0.7945297990882998\n",
            "precision is : 0.7900677207355189\n",
            "recall score is : 0.7945297990882998\n",
            "f1 score is : 0.792177524615414\n"
          ]
        }
      ],
      "source": [
        "print('Accuracy is :',accuracy_score(y_test,y_pred))\n",
        "print('precision is :',precision_score(y_test,y_pred,average='weighted'))\n",
        "print('recall score is :',recall_score(y_test,y_pred,average='weighted'))\n",
        "print('f1 score is :',f1_score(y_test,y_pred,average='weighted'))"
      ],
      "id": "a97b80f5"
    },
    {
      "cell_type": "code",
      "execution_count": null,
      "metadata": {
        "id": "6b3378cf",
        "outputId": "7ec9fb47-1503-41da-dd6e-85e1384fc027"
      },
      "outputs": [
        {
          "name": "stdout",
          "output_type": "stream",
          "text": [
            "[[4169  574]\n",
            " [ 643  537]]\n"
          ]
        }
      ],
      "source": [
        "print(confusion_matrix(y_test,y_pred))"
      ],
      "id": "6b3378cf"
    },
    {
      "cell_type": "markdown",
      "metadata": {
        "id": "4b7f4746"
      },
      "source": [
        "## KNN Model"
      ],
      "id": "4b7f4746"
    },
    {
      "cell_type": "code",
      "execution_count": null,
      "metadata": {
        "id": "4e02e1cf"
      },
      "outputs": [],
      "source": [
        "from sklearn.neighbors import KNeighborsClassifier\n",
        "acc_values = []\n",
        "n_neighbors = np.arange(2,18)\n",
        "for i in n_neighbors:\n",
        "    knn_model = KNeighborsClassifier(n_neighbors=i,metric='minkowski')\n",
        "    knn_model.fit(X_train,y_train)\n",
        "    y_pred = knn_model.predict(X_test)\n",
        "    acc = accuracy_score(y_test,y_pred)\n",
        "    acc_values.append(acc)"
      ],
      "id": "4e02e1cf"
    },
    {
      "cell_type": "code",
      "execution_count": null,
      "metadata": {
        "id": "3736937f",
        "outputId": "903173a3-3d13-4e66-d22a-675a0b4ab72a"
      },
      "outputs": [
        {
          "data": {
            "text/plain": [
              "Text(0, 0.5, 'Acuuracy values')"
            ]
          },
          "execution_count": 124,
          "metadata": {},
          "output_type": "execute_result"
        },
        {
          "data": {
            "image/png": "[encoded data removed]",
            "text/plain": [
              "<Figure size 432x288 with 1 Axes>"
            ]
          },
          "metadata": {},
          "output_type": "display_data"
        }
      ],
      "source": [
        "plt.plot(n_neighbors,acc_values,'o-')\n",
        "plt.xlabel('Number of Neighbors')\n",
        "plt.ylabel('Acuuracy values')"
      ],
      "id": "3736937f"
    },
    {
      "cell_type": "code",
      "execution_count": null,
      "metadata": {
        "id": "15c0ebb8",
        "outputId": "188c82da-877e-434d-f0a0-58bdb21f9e4c"
      },
      "outputs": [
        {
          "name": "stdout",
          "output_type": "stream",
          "text": [
            "Accuracy on training data is :  0.8627633078644097\n",
            "Accuracy is : 0.8227249704541617\n",
            "precision is : 0.8125393175411284\n",
            "recall score is : 0.8227249704541617\n",
            "f1 score is : 0.8164911594858733\n"
          ]
        }
      ],
      "source": [
        "knn_model = KNeighborsClassifier(n_neighbors=7,metric='minkowski')\n",
        "knn_model.fit(X_train,y_train)\n",
        "y_pred = knn_model.predict(X_test)\n",
        "print('Accuracy on training data is : ',knn_model.score(X_train,y_train))\n",
        "print('Accuracy is :',accuracy_score(y_test,y_pred))\n",
        "print('precision is :',precision_score(y_test,y_pred,average='weighted'))\n",
        "print('recall score is :',recall_score(y_test,y_pred,average='weighted'))\n",
        "print('f1 score is :',f1_score(y_test,y_pred,average='weighted'))"
      ],
      "id": "15c0ebb8"
    },
    {
      "cell_type": "code",
      "execution_count": null,
      "metadata": {
        "id": "52a951eb",
        "outputId": "1b19369d-1a1f-4df4-c755-aa24933e356d"
      },
      "outputs": [
        {
          "name": "stdout",
          "output_type": "stream",
          "text": [
            "[[4316  427]\n",
            " [ 623  557]]\n"
          ]
        }
      ],
      "source": [
        "print(confusion_matrix(y_test,y_pred))"
      ],
      "id": "52a951eb"
    },
    {
      "cell_type": "markdown",
      "metadata": {
        "id": "2ff4ada2"
      },
      "source": [
        "# Random Forest Classifier"
      ],
      "id": "2ff4ada2"
    },
    {
      "cell_type": "code",
      "execution_count": null,
      "metadata": {
        "id": "13508eb1"
      },
      "outputs": [],
      "source": [
        "from sklearn.ensemble import RandomForestClassifier\n",
        "rf_model = RandomForestClassifier()\n",
        "rf_model.fit(X_train,y_train)\n",
        "y_pred = rf_model.predict(X_test)"
      ],
      "id": "13508eb1"
    },
    {
      "cell_type": "code",
      "execution_count": null,
      "metadata": {
        "id": "0b09c1a9",
        "outputId": "051575b2-4c64-436b-957e-760a93b9ac07"
      },
      "outputs": [
        {
          "name": "stdout",
          "output_type": "stream",
          "text": [
            "Accuracy on training data is :  0.9549157836970746\n"
          ]
        }
      ],
      "source": [
        "print('Accuracy on training data is : ',rf_model.score(X_train,y_train))"
      ],
      "id": "0b09c1a9"
    },
    {
      "cell_type": "code",
      "execution_count": null,
      "metadata": {
        "id": "95c44f3b",
        "outputId": "2ea24b2c-b11b-46b4-dea7-0c57322a3e06"
      },
      "outputs": [
        {
          "name": "stdout",
          "output_type": "stream",
          "text": [
            "Accuracy is : 0.8215431369238562\n",
            "precision is : 0.8121813088630733\n",
            "recall score is : 0.8215431369238562\n",
            "f1 score is : 0.8159428225351337\n"
          ]
        }
      ],
      "source": [
        "print('Accuracy is :',accuracy_score(y_test,y_pred))\n",
        "print('precision is :',precision_score(y_test,y_pred,average='weighted'))\n",
        "print('recall score is :',recall_score(y_test,y_pred,average='weighted'))\n",
        "print('f1 score is :',f1_score(y_test,y_pred,average='weighted'))"
      ],
      "id": "95c44f3b"
    },
    {
      "cell_type": "code",
      "execution_count": null,
      "metadata": {
        "id": "f90c2493",
        "outputId": "2fbffd4c-9588-4f9b-dc3d-202a6eb88351"
      },
      "outputs": [
        {
          "name": "stdout",
          "output_type": "stream",
          "text": [
            "[[4303  440]\n",
            " [ 617  563]]\n"
          ]
        }
      ],
      "source": [
        "print(confusion_matrix(y_test,y_pred))"
      ],
      "id": "f90c2493"
    },
    {
      "cell_type": "markdown",
      "metadata": {
        "id": "6703ee65"
      },
      "source": [
        "## Gradient Boosting"
      ],
      "id": "6703ee65"
    },
    {
      "cell_type": "code",
      "execution_count": null,
      "metadata": {
        "id": "c201555b",
        "outputId": "63e9b53a-f42d-45e6-ba18-2b6c321e4917"
      },
      "outputs": [
        {
          "name": "stdout",
          "output_type": "stream",
          "text": [
            "Accuracy on training data is :  0.8513656127316476\n",
            "Accuracy is : 0.8450109741684957\n",
            "precision is : 0.8324097124224497\n",
            "recall score is : 0.8450109741684957\n",
            "f1 score is : 0.8347231367088387\n",
            "              precision    recall  f1-score   support\n",
            "\n",
            "           0       0.88      0.94      0.91      4743\n",
            "           1       0.66      0.47      0.55      1180\n",
            "\n",
            "    accuracy                           0.85      5923\n",
            "   macro avg       0.77      0.70      0.73      5923\n",
            "weighted avg       0.83      0.85      0.83      5923\n",
            "\n",
            "[[4453  290]\n",
            " [ 628  552]]\n"
          ]
        }
      ],
      "source": [
        "from sklearn.ensemble import GradientBoostingClassifier\n",
        "gb = GradientBoostingClassifier()\n",
        "gb.fit(X_train,y_train)\n",
        "y_pred = gb.predict(X_test)\n",
        "print('Accuracy on training data is : ',gb.score(X_train,y_train))\n",
        "print('Accuracy is :',accuracy_score(y_test,y_pred))\n",
        "print('precision is :',precision_score(y_test,y_pred,average='weighted'))\n",
        "print('recall score is :',recall_score(y_test,y_pred,average='weighted'))\n",
        "print('f1 score is :',f1_score(y_test,y_pred,average='weighted'))\n",
        "print(classification_report(y_test,y_pred))\n",
        "print(confusion_matrix(y_test,y_pred))"
      ],
      "id": "c201555b"
    },
    {
      "cell_type": "markdown",
      "metadata": {
        "id": "e2e24554"
      },
      "source": [
        "# Model Prediction Accuracy table"
      ],
      "id": "e2e24554"
    },
    {
      "cell_type": "code",
      "execution_count": null,
      "metadata": {
        "id": "77c046d2",
        "outputId": "13392df1-8885-4a52-c031-5e03a2be236a"
      },
      "outputs": [
        {
          "name": "stdout",
          "output_type": "stream",
          "text": [
            "╒═════════════════════╤════════════╕\n",
            "│ Model               │   Accuracy │\n",
            "╞═════════════════════╪════════════╡\n",
            "│ Logistic Regression │       80   │\n",
            "├─────────────────────┼────────────┤\n",
            "│ KNN                 │       82.2 │\n",
            "├─────────────────────┼────────────┤\n",
            "│ Decision Tree       │       79.4 │\n",
            "├─────────────────────┼────────────┤\n",
            "│ Random Forest       │       82.1 │\n",
            "├─────────────────────┼────────────┤\n",
            "│ SVM                 │       80   │\n",
            "├─────────────────────┼────────────┤\n",
            "│ Gradient Boosting   │       84.5 │\n",
            "╘═════════════════════╧════════════╛\n"
          ]
        }
      ],
      "source": [
        "from tabulate import tabulate\n",
        "table = [['Model','Accuracy'],['Logistic Regression',80],['KNN',82.2],['Decision Tree',79.4],['Random Forest',82.1],['SVM',80],['Gradient Boosting',84.5]]\n",
        "print(tabulate(table,headers='firstrow',tablefmt='fancy_grid'))\n"
      ],
      "id": "77c046d2"
    },
    {
      "cell_type": "markdown",
      "metadata": {
        "id": "1fb5a264"
      },
      "source": [
        "## HyperParameter Tuning"
      ],
      "id": "1fb5a264"
    },
    {
      "cell_type": "markdown",
      "metadata": {
        "id": "0db60cbd"
      },
      "source": [
        "### Hyper parameter tuning of model Random Forest"
      ],
      "id": "0db60cbd"
    },
    {
      "cell_type": "code",
      "execution_count": null,
      "metadata": {
        "id": "c766b017"
      },
      "outputs": [],
      "source": [
        "#manual hyper parameter tuing\n",
        "hyp_classifier = RandomForestClassifier(n_estimators = 300,criterion = 'entropy',max_features = 'sqrt',min_samples_leaf=10,random_state=100).fit(X_train,y_train)"
      ],
      "id": "c766b017"
    },
    {
      "cell_type": "code",
      "execution_count": null,
      "metadata": {
        "id": "c7801d21",
        "outputId": "85060e1b-223f-4b9c-a7b0-9bbb6d598457"
      },
      "outputs": [
        {
          "name": "stdout",
          "output_type": "stream",
          "text": [
            "Accuracy: 0.8453486408914401\n"
          ]
        }
      ],
      "source": [
        "y_pred_2 = hyp_classifier.predict(X_test)\n",
        "print('Accuracy:',accuracy_score(y_test,y_pred_2))"
      ],
      "id": "c7801d21"
    },
    {
      "cell_type": "code",
      "execution_count": null,
      "metadata": {
        "id": "15e5d823"
      },
      "outputs": [],
      "source": [
        "#using Randomized Search CV"
      ],
      "id": "15e5d823"
    },
    {
      "cell_type": "code",
      "execution_count": null,
      "metadata": {
        "id": "4bd3bbef"
      },
      "outputs": [],
      "source": [
        "from sklearn.model_selection import RandomizedSearchCV\n",
        "n_estimators = [int(x) for x in np.linspace(start=200,stop=2000,num=10)]\n",
        "max_features = ['auto','sqrt','log2']\n",
        "max_depth = [int(x) for x in np.linspace(start=10,stop=1000,num=10)]\n",
        "min_samples_split = [2,5,10,14]\n",
        "min_samples_leaf = [1,2,4,6,8]\n",
        "random_grid ={'n_estimators':n_estimators,\n",
        "              'max_features' :max_features,\n",
        "              'max_depth' :max_depth,\n",
        "              'min_samples_split':min_samples_split,\n",
        "              'min_samples_leaf':min_samples_leaf,\n",
        "              'criterion' : ['entropy','gini','log_loss']}"
      ],
      "id": "4bd3bbef"
    },
    {
      "cell_type": "code",
      "execution_count": null,
      "metadata": {
        "id": "28aca292"
      },
      "outputs": [],
      "source": [
        "rf = RandomForestClassifier()"
      ],
      "id": "28aca292"
    },
    {
      "cell_type": "code",
      "execution_count": null,
      "metadata": {
        "id": "478638e1"
      },
      "outputs": [],
      "source": [
        "rf_randomCV = RandomizedSearchCV(estimator=rf,param_distributions=random_grid,n_iter=100,cv=3,verbose=2,random_state=100,n_jobs=-1)"
      ],
      "id": "478638e1"
    },
    {
      "cell_type": "code",
      "execution_count": null,
      "metadata": {
        "id": "ef730c97",
        "outputId": "51251f54-cdf0-449a-f44a-4cf041848073"
      },
      "outputs": [
        {
          "name": "stdout",
          "output_type": "stream",
          "text": [
            "Fitting 3 folds for each of 100 candidates, totalling 300 fits\n"
          ]
        },
        {
          "data": {
            "text/plain": [
              "RandomizedSearchCV(cv=3, estimator=RandomForestClassifier(), n_iter=100,\n",
              "                   n_jobs=-1,\n",
              "                   param_distributions={'criterion': ['entropy', 'gini',\n",
              "                                                      'log_loss'],\n",
              "                                        'max_depth': [10, 120, 230, 340, 450,\n",
              "                                                      560, 670, 780, 890,\n",
              "                                                      1000],\n",
              "                                        'max_features': ['auto', 'sqrt',\n",
              "                                                         'log2'],\n",
              "                                        'min_samples_leaf': [1, 2, 4, 6, 8],\n",
              "                                        'min_samples_split': [2, 5, 10, 14],\n",
              "                                        'n_estimators': [200, 400, 600, 800,\n",
              "                                                         1000, 1200, 1400, 1600,\n",
              "                                                         1800, 2000]},\n",
              "                   random_state=100, verbose=2)"
            ]
          },
          "execution_count": 181,
          "metadata": {},
          "output_type": "execute_result"
        }
      ],
      "source": [
        "#fit the randomized model\n",
        "rf_randomCV.fit(X_train,y_train)"
      ],
      "id": "ef730c97"
    },
    {
      "cell_type": "code",
      "execution_count": null,
      "metadata": {
        "id": "834b727f",
        "outputId": "28bc6e85-6aef-4e92-e55c-a6e95d9b55fc"
      },
      "outputs": [
        {
          "data": {
            "text/plain": [
              "{'n_estimators': 1600,\n",
              " 'min_samples_split': 2,\n",
              " 'min_samples_leaf': 4,\n",
              " 'max_features': 'auto',\n",
              " 'max_depth': 1000,\n",
              " 'criterion': 'gini'}"
            ]
          },
          "execution_count": 182,
          "metadata": {},
          "output_type": "execute_result"
        }
      ],
      "source": [
        "rf_randomCV.best_params_"
      ],
      "id": "834b727f"
    },
    {
      "cell_type": "code",
      "execution_count": null,
      "metadata": {
        "id": "69e672a4",
        "outputId": "a1aa0783-0dd7-458d-9919-b25fa9a80ba3"
      },
      "outputs": [
        {
          "data": {
            "text/plain": [
              "RandomForestClassifier(max_depth=1000, min_samples_leaf=4, n_estimators=1600)"
            ]
          },
          "execution_count": 183,
          "metadata": {},
          "output_type": "execute_result"
        }
      ],
      "source": [
        "\n",
        "rf_randomCV.best_estimator_"
      ],
      "id": "69e672a4"
    },
    {
      "cell_type": "code",
      "execution_count": null,
      "metadata": {
        "id": "8ed9f4a3"
      },
      "outputs": [],
      "source": [
        "best_random = rf_randomCV.best_estimator_"
      ],
      "id": "8ed9f4a3"
    },
    {
      "cell_type": "code",
      "execution_count": null,
      "metadata": {
        "id": "aa3c16a0",
        "outputId": "d74e4585-a578-4bf2-fa9c-c1128f22f55d"
      },
      "outputs": [
        {
          "name": "stdout",
          "output_type": "stream",
          "text": [
            "Accuracy: 1.0\n"
          ]
        }
      ],
      "source": [
        "y_pred_3 = best_random.predict(X_test)\n",
        "print('Accuracy:',accuracy_score(y_pred_3,y_pred_3))"
      ],
      "id": "aa3c16a0"
    },
    {
      "cell_type": "code",
      "execution_count": null,
      "metadata": {
        "id": "0aad95ea"
      },
      "outputs": [],
      "source": [
        "#Using Grid Search"
      ],
      "id": "0aad95ea"
    },
    {
      "cell_type": "code",
      "execution_count": null,
      "metadata": {
        "id": "767eba5f",
        "outputId": "03fcaac7-028b-464e-d609-7c8d9ff15046"
      },
      "outputs": [
        {
          "name": "stdout",
          "output_type": "stream",
          "text": [
            "{'criterion': ['gini'], 'max_depth': [1000], 'max_features': ['auto'], 'min_samples_leaf': [4, 6, 8], 'min_samples_split': [2, 3, 4], 'n_estimators': [1600, 1500, 1400]}\n"
          ]
        }
      ],
      "source": [
        "from sklearn.model_selection import GridSearchCV\n",
        "param_grid = {\n",
        "    'criterion' : [rf_randomCV.best_params_['criterion']],\n",
        "    'max_depth' : [rf_randomCV.best_params_['max_depth']],\n",
        "    'max_features' :[rf_randomCV.best_params_['max_features']],\n",
        "    'min_samples_leaf':[rf_randomCV.best_params_['min_samples_leaf'],\n",
        "                        rf_randomCV.best_params_['min_samples_leaf']+2,\n",
        "                        rf_randomCV.best_params_['min_samples_leaf']+4],\n",
        "    'min_samples_split' : [rf_randomCV.best_params_['min_samples_split'],\n",
        "                           rf_randomCV.best_params_['min_samples_split']+1,\n",
        "                           rf_randomCV.best_params_['min_samples_split']+2],\n",
        "    'n_estimators': [rf_randomCV.best_params_['n_estimators'],\n",
        "                    rf_randomCV.best_params_['n_estimators']-100,\n",
        "                    rf_randomCV.best_params_['n_estimators']-200]\n",
        "}\n",
        "\n",
        "print(param_grid)"
      ],
      "id": "767eba5f"
    },
    {
      "cell_type": "code",
      "execution_count": null,
      "metadata": {
        "id": "a9a10c41",
        "outputId": "d3e3adc6-90cf-43cb-bcb2-f4ff22bfaef5"
      },
      "outputs": [
        {
          "name": "stdout",
          "output_type": "stream",
          "text": [
            "Fitting 5 folds for each of 27 candidates, totalling 135 fits\n"
          ]
        },
        {
          "data": {
            "text/plain": [
              "GridSearchCV(cv=5, estimator=RandomForestClassifier(), n_jobs=-1,\n",
              "             param_grid={'criterion': ['gini'], 'max_depth': [1000],\n",
              "                         'max_features': ['auto'],\n",
              "                         'min_samples_leaf': [4, 6, 8],\n",
              "                         'min_samples_split': [2, 3, 4],\n",
              "                         'n_estimators': [1600, 1500, 1400]},\n",
              "             verbose=2)"
            ]
          },
          "execution_count": 189,
          "metadata": {},
          "output_type": "execute_result"
        }
      ],
      "source": [
        "rf = RandomForestClassifier()\n",
        "grid_search = GridSearchCV(estimator=rf,param_grid=param_grid ,cv=5,n_jobs=-1,verbose=2)\n",
        "grid_search.fit(X_train,y_train)"
      ],
      "id": "a9a10c41"
    },
    {
      "cell_type": "code",
      "execution_count": null,
      "metadata": {
        "id": "8cbc7b98"
      },
      "outputs": [],
      "source": [],
      "id": "8cbc7b98"
    }
  ],
  "metadata": {
    "colab": {
      "provenance": [],
      "include_colab_link": true
    },
    "kernelspec": {
      "display_name": "Python 3 (ipykernel)",
      "language": "python",
      "name": "python3"
    },
    "language_info": {
      "codemirror_mode": {
        "name": "ipython",
        "version": 3
      },
      "file_extension": ".py",
      "mimetype": "text/x-python",
      "name": "python",
      "nbconvert_exporter": "python",
      "pygments_lexer": "ipython3",
      "version": "3.9.12"
    }
  },
  "nbformat": 4,
  "nbformat_minor": 5
}